{
 "cells": [
  {
   "cell_type": "markdown",
   "id": "b66315b6",
   "metadata": {},
   "source": [
    "# import"
   ]
  },
  {
   "cell_type": "code",
   "execution_count": 1,
   "id": "0ed39ae5",
   "metadata": {},
   "outputs": [],
   "source": [
    "import pandas as pd\n",
    "import numpy as np\n",
    "import os\n",
    "import matplotlib.pyplot as plt\n",
    "import seaborn as sns\n",
    "import scipy"
   ]
  },
  {
   "cell_type": "markdown",
   "id": "50ae67b9",
   "metadata": {},
   "source": [
    "# path to string"
   ]
  },
  {
   "cell_type": "code",
   "execution_count": 17,
   "id": "cb98f115",
   "metadata": {},
   "outputs": [],
   "source": [
    "path = r'C:\\Users\\leevg\\OneDrive\\Desktop\\CF\\DI\\A6'"
   ]
  },
  {
   "cell_type": "markdown",
   "id": "8392ba84",
   "metadata": {},
   "source": [
    "# import data"
   ]
  },
  {
   "cell_type": "code",
   "execution_count": 19,
   "id": "a48952b2",
   "metadata": {},
   "outputs": [],
   "source": [
    "df = pd.read_csv(os.path.join(path, 'Data', 'Prepared Data', 'TSA Claims Cleaned.csv'))"
   ]
  },
  {
   "cell_type": "markdown",
   "id": "01ab1f05",
   "metadata": {},
   "source": [
    "# checking data"
   ]
  },
  {
   "cell_type": "code",
   "execution_count": 20,
   "id": "d9e0442a",
   "metadata": {},
   "outputs": [
    {
     "data": {
      "text/html": [
       "<div>\n",
       "<style scoped>\n",
       "    .dataframe tbody tr th:only-of-type {\n",
       "        vertical-align: middle;\n",
       "    }\n",
       "\n",
       "    .dataframe tbody tr th {\n",
       "        vertical-align: top;\n",
       "    }\n",
       "\n",
       "    .dataframe thead th {\n",
       "        text-align: right;\n",
       "    }\n",
       "</style>\n",
       "<table border=\"1\" class=\"dataframe\">\n",
       "  <thead>\n",
       "    <tr style=\"text-align: right;\">\n",
       "      <th></th>\n",
       "      <th>Claim Number</th>\n",
       "      <th>Date Received</th>\n",
       "      <th>Incident Date</th>\n",
       "      <th>State</th>\n",
       "      <th>Airport Name</th>\n",
       "      <th>Airline Name</th>\n",
       "      <th>Claim Type</th>\n",
       "      <th>Claim Site</th>\n",
       "      <th>Item</th>\n",
       "      <th>Claim Amount</th>\n",
       "      <th>Status</th>\n",
       "      <th>Close Amount</th>\n",
       "      <th>Disposition</th>\n",
       "    </tr>\n",
       "  </thead>\n",
       "  <tbody>\n",
       "    <tr>\n",
       "      <th>0</th>\n",
       "      <td>12772</td>\n",
       "      <td>6/20/02</td>\n",
       "      <td>5/9/02</td>\n",
       "      <td>Maryland</td>\n",
       "      <td>Baltimore/Washington Intl Thurgood Marshall</td>\n",
       "      <td>Southwest Airlines</td>\n",
       "      <td>Other</td>\n",
       "      <td>Checkpoint</td>\n",
       "      <td>Clothing</td>\n",
       "      <td>75.00</td>\n",
       "      <td>Approved</td>\n",
       "      <td>75.0</td>\n",
       "      <td>Approve in Full</td>\n",
       "    </tr>\n",
       "    <tr>\n",
       "      <th>1</th>\n",
       "      <td>14268</td>\n",
       "      <td>6/20/02</td>\n",
       "      <td>6/16/02</td>\n",
       "      <td>Arizona</td>\n",
       "      <td>Phoenix Sky Harbor International</td>\n",
       "      <td>Other</td>\n",
       "      <td>Property Damage</td>\n",
       "      <td>Checkpoint</td>\n",
       "      <td>Computers</td>\n",
       "      <td>2270.09</td>\n",
       "      <td>Canceled</td>\n",
       "      <td>0.0</td>\n",
       "      <td>Cancel</td>\n",
       "    </tr>\n",
       "    <tr>\n",
       "      <th>2</th>\n",
       "      <td>2.0041E+12</td>\n",
       "      <td>6/25/02</td>\n",
       "      <td>5/4/02</td>\n",
       "      <td>Georgia</td>\n",
       "      <td>Hartsfield-Jackson Atlanta International Airport</td>\n",
       "      <td>Other</td>\n",
       "      <td>Passenger Property Loss</td>\n",
       "      <td>Checkpoint</td>\n",
       "      <td>Jewelry</td>\n",
       "      <td>4457.29</td>\n",
       "      <td>Denied</td>\n",
       "      <td>0.0</td>\n",
       "      <td>Deny</td>\n",
       "    </tr>\n",
       "    <tr>\n",
       "      <th>3</th>\n",
       "      <td>14460</td>\n",
       "      <td>7/8/02</td>\n",
       "      <td>6/12/02</td>\n",
       "      <td>Maryland</td>\n",
       "      <td>Baltimore/Washington Intl Thurgood Marshall</td>\n",
       "      <td>American Airlines</td>\n",
       "      <td>Other</td>\n",
       "      <td>Checkpoint</td>\n",
       "      <td>Glasses &amp; Contacts</td>\n",
       "      <td>16.71</td>\n",
       "      <td>Approved</td>\n",
       "      <td>17.0</td>\n",
       "      <td>Approve in Full</td>\n",
       "    </tr>\n",
       "    <tr>\n",
       "      <th>4</th>\n",
       "      <td>13334</td>\n",
       "      <td>7/8/02</td>\n",
       "      <td>6/4/02</td>\n",
       "      <td>Maryland</td>\n",
       "      <td>Baltimore/Washington Intl Thurgood Marshall</td>\n",
       "      <td>Southwest Airlines</td>\n",
       "      <td>Other</td>\n",
       "      <td>Other</td>\n",
       "      <td>Clothing</td>\n",
       "      <td>450.00</td>\n",
       "      <td>Canceled</td>\n",
       "      <td>0.0</td>\n",
       "      <td>Cancel</td>\n",
       "    </tr>\n",
       "  </tbody>\n",
       "</table>\n",
       "</div>"
      ],
      "text/plain": [
       "  Claim Number Date Received Incident Date     State  \\\n",
       "0        12772       6/20/02        5/9/02  Maryland   \n",
       "1        14268       6/20/02       6/16/02   Arizona   \n",
       "2   2.0041E+12       6/25/02        5/4/02   Georgia   \n",
       "3        14460        7/8/02       6/12/02  Maryland   \n",
       "4        13334        7/8/02        6/4/02  Maryland   \n",
       "\n",
       "                                       Airport Name        Airline Name  \\\n",
       "0       Baltimore/Washington Intl Thurgood Marshall  Southwest Airlines   \n",
       "1                  Phoenix Sky Harbor International               Other   \n",
       "2  Hartsfield-Jackson Atlanta International Airport               Other   \n",
       "3       Baltimore/Washington Intl Thurgood Marshall   American Airlines   \n",
       "4       Baltimore/Washington Intl Thurgood Marshall  Southwest Airlines   \n",
       "\n",
       "                Claim Type  Claim Site                Item  Claim Amount  \\\n",
       "0                    Other  Checkpoint            Clothing         75.00   \n",
       "1          Property Damage  Checkpoint           Computers       2270.09   \n",
       "2  Passenger Property Loss  Checkpoint             Jewelry       4457.29   \n",
       "3                    Other  Checkpoint  Glasses & Contacts         16.71   \n",
       "4                    Other       Other            Clothing        450.00   \n",
       "\n",
       "     Status  Close Amount      Disposition  \n",
       "0  Approved          75.0  Approve in Full  \n",
       "1  Canceled           0.0           Cancel  \n",
       "2    Denied           0.0             Deny  \n",
       "3  Approved          17.0  Approve in Full  \n",
       "4  Canceled           0.0           Cancel  "
      ]
     },
     "execution_count": 20,
     "metadata": {},
     "output_type": "execute_result"
    }
   ],
   "source": [
    "df.head()"
   ]
  },
  {
   "cell_type": "code",
   "execution_count": 21,
   "id": "dc346809",
   "metadata": {},
   "outputs": [
    {
     "data": {
      "text/plain": [
       "(139201, 13)"
      ]
     },
     "execution_count": 21,
     "metadata": {},
     "output_type": "execute_result"
    }
   ],
   "source": [
    "df.shape"
   ]
  },
  {
   "cell_type": "code",
   "execution_count": 22,
   "id": "8502a5ec",
   "metadata": {},
   "outputs": [
    {
     "data": {
      "text/plain": [
       "Claim Number      object\n",
       "Date Received     object\n",
       "Incident Date     object\n",
       "State             object\n",
       "Airport Name      object\n",
       "Airline Name      object\n",
       "Claim Type        object\n",
       "Claim Site        object\n",
       "Item              object\n",
       "Claim Amount     float64\n",
       "Status            object\n",
       "Close Amount     float64\n",
       "Disposition       object\n",
       "dtype: object"
      ]
     },
     "execution_count": 22,
     "metadata": {},
     "output_type": "execute_result"
    }
   ],
   "source": [
    "df.dtypes"
   ]
  },
  {
   "cell_type": "markdown",
   "id": "1111c29c",
   "metadata": {},
   "source": [
    "# dropping unnecessary column"
   ]
  },
  {
   "cell_type": "code",
   "execution_count": 25,
   "id": "9f4ffcec",
   "metadata": {},
   "outputs": [],
   "source": [
    "df.drop(['Claim Number'], axis=1, inplace=True)"
   ]
  },
  {
   "cell_type": "code",
   "execution_count": 29,
   "id": "89a40683",
   "metadata": {},
   "outputs": [],
   "source": [
    "# Checking once again"
   ]
  },
  {
   "cell_type": "code",
   "execution_count": 26,
   "id": "e033edcc",
   "metadata": {},
   "outputs": [
    {
     "data": {
      "text/html": [
       "<div>\n",
       "<style scoped>\n",
       "    .dataframe tbody tr th:only-of-type {\n",
       "        vertical-align: middle;\n",
       "    }\n",
       "\n",
       "    .dataframe tbody tr th {\n",
       "        vertical-align: top;\n",
       "    }\n",
       "\n",
       "    .dataframe thead th {\n",
       "        text-align: right;\n",
       "    }\n",
       "</style>\n",
       "<table border=\"1\" class=\"dataframe\">\n",
       "  <thead>\n",
       "    <tr style=\"text-align: right;\">\n",
       "      <th></th>\n",
       "      <th>Date Received</th>\n",
       "      <th>Incident Date</th>\n",
       "      <th>State</th>\n",
       "      <th>Airport Name</th>\n",
       "      <th>Airline Name</th>\n",
       "      <th>Claim Type</th>\n",
       "      <th>Claim Site</th>\n",
       "      <th>Item</th>\n",
       "      <th>Claim Amount</th>\n",
       "      <th>Status</th>\n",
       "      <th>Close Amount</th>\n",
       "      <th>Disposition</th>\n",
       "    </tr>\n",
       "  </thead>\n",
       "  <tbody>\n",
       "    <tr>\n",
       "      <th>0</th>\n",
       "      <td>6/20/02</td>\n",
       "      <td>5/9/02</td>\n",
       "      <td>Maryland</td>\n",
       "      <td>Baltimore/Washington Intl Thurgood Marshall</td>\n",
       "      <td>Southwest Airlines</td>\n",
       "      <td>Other</td>\n",
       "      <td>Checkpoint</td>\n",
       "      <td>Clothing</td>\n",
       "      <td>75.00</td>\n",
       "      <td>Approved</td>\n",
       "      <td>75.0</td>\n",
       "      <td>Approve in Full</td>\n",
       "    </tr>\n",
       "    <tr>\n",
       "      <th>1</th>\n",
       "      <td>6/20/02</td>\n",
       "      <td>6/16/02</td>\n",
       "      <td>Arizona</td>\n",
       "      <td>Phoenix Sky Harbor International</td>\n",
       "      <td>Other</td>\n",
       "      <td>Property Damage</td>\n",
       "      <td>Checkpoint</td>\n",
       "      <td>Computers</td>\n",
       "      <td>2270.09</td>\n",
       "      <td>Canceled</td>\n",
       "      <td>0.0</td>\n",
       "      <td>Cancel</td>\n",
       "    </tr>\n",
       "    <tr>\n",
       "      <th>2</th>\n",
       "      <td>6/25/02</td>\n",
       "      <td>5/4/02</td>\n",
       "      <td>Georgia</td>\n",
       "      <td>Hartsfield-Jackson Atlanta International Airport</td>\n",
       "      <td>Other</td>\n",
       "      <td>Passenger Property Loss</td>\n",
       "      <td>Checkpoint</td>\n",
       "      <td>Jewelry</td>\n",
       "      <td>4457.29</td>\n",
       "      <td>Denied</td>\n",
       "      <td>0.0</td>\n",
       "      <td>Deny</td>\n",
       "    </tr>\n",
       "    <tr>\n",
       "      <th>3</th>\n",
       "      <td>7/8/02</td>\n",
       "      <td>6/12/02</td>\n",
       "      <td>Maryland</td>\n",
       "      <td>Baltimore/Washington Intl Thurgood Marshall</td>\n",
       "      <td>American Airlines</td>\n",
       "      <td>Other</td>\n",
       "      <td>Checkpoint</td>\n",
       "      <td>Glasses &amp; Contacts</td>\n",
       "      <td>16.71</td>\n",
       "      <td>Approved</td>\n",
       "      <td>17.0</td>\n",
       "      <td>Approve in Full</td>\n",
       "    </tr>\n",
       "    <tr>\n",
       "      <th>4</th>\n",
       "      <td>7/8/02</td>\n",
       "      <td>6/4/02</td>\n",
       "      <td>Maryland</td>\n",
       "      <td>Baltimore/Washington Intl Thurgood Marshall</td>\n",
       "      <td>Southwest Airlines</td>\n",
       "      <td>Other</td>\n",
       "      <td>Other</td>\n",
       "      <td>Clothing</td>\n",
       "      <td>450.00</td>\n",
       "      <td>Canceled</td>\n",
       "      <td>0.0</td>\n",
       "      <td>Cancel</td>\n",
       "    </tr>\n",
       "  </tbody>\n",
       "</table>\n",
       "</div>"
      ],
      "text/plain": [
       "  Date Received Incident Date     State  \\\n",
       "0       6/20/02        5/9/02  Maryland   \n",
       "1       6/20/02       6/16/02   Arizona   \n",
       "2       6/25/02        5/4/02   Georgia   \n",
       "3        7/8/02       6/12/02  Maryland   \n",
       "4        7/8/02        6/4/02  Maryland   \n",
       "\n",
       "                                       Airport Name        Airline Name  \\\n",
       "0       Baltimore/Washington Intl Thurgood Marshall  Southwest Airlines   \n",
       "1                  Phoenix Sky Harbor International               Other   \n",
       "2  Hartsfield-Jackson Atlanta International Airport               Other   \n",
       "3       Baltimore/Washington Intl Thurgood Marshall   American Airlines   \n",
       "4       Baltimore/Washington Intl Thurgood Marshall  Southwest Airlines   \n",
       "\n",
       "                Claim Type  Claim Site                Item  Claim Amount  \\\n",
       "0                    Other  Checkpoint            Clothing         75.00   \n",
       "1          Property Damage  Checkpoint           Computers       2270.09   \n",
       "2  Passenger Property Loss  Checkpoint             Jewelry       4457.29   \n",
       "3                    Other  Checkpoint  Glasses & Contacts         16.71   \n",
       "4                    Other       Other            Clothing        450.00   \n",
       "\n",
       "     Status  Close Amount      Disposition  \n",
       "0  Approved          75.0  Approve in Full  \n",
       "1  Canceled           0.0           Cancel  \n",
       "2    Denied           0.0             Deny  \n",
       "3  Approved          17.0  Approve in Full  \n",
       "4  Canceled           0.0           Cancel  "
      ]
     },
     "execution_count": 26,
     "metadata": {},
     "output_type": "execute_result"
    }
   ],
   "source": [
    "df.head()"
   ]
  },
  {
   "cell_type": "code",
   "execution_count": 27,
   "id": "44bf0423",
   "metadata": {},
   "outputs": [
    {
     "data": {
      "text/plain": [
       "(139201, 12)"
      ]
     },
     "execution_count": 27,
     "metadata": {},
     "output_type": "execute_result"
    }
   ],
   "source": [
    "df.shape"
   ]
  },
  {
   "cell_type": "code",
   "execution_count": 28,
   "id": "371820f8",
   "metadata": {},
   "outputs": [
    {
     "data": {
      "text/plain": [
       "Date Received     object\n",
       "Incident Date     object\n",
       "State             object\n",
       "Airport Name      object\n",
       "Airline Name      object\n",
       "Claim Type        object\n",
       "Claim Site        object\n",
       "Item              object\n",
       "Claim Amount     float64\n",
       "Status            object\n",
       "Close Amount     float64\n",
       "Disposition       object\n",
       "dtype: object"
      ]
     },
     "execution_count": 28,
     "metadata": {},
     "output_type": "execute_result"
    }
   ],
   "source": [
    "df.dtypes"
   ]
  },
  {
   "cell_type": "markdown",
   "id": "fdbf4607",
   "metadata": {},
   "source": [
    "# descriptive statistics"
   ]
  },
  {
   "cell_type": "code",
   "execution_count": 23,
   "id": "398e3a7b",
   "metadata": {},
   "outputs": [
    {
     "data": {
      "text/html": [
       "<div>\n",
       "<style scoped>\n",
       "    .dataframe tbody tr th:only-of-type {\n",
       "        vertical-align: middle;\n",
       "    }\n",
       "\n",
       "    .dataframe tbody tr th {\n",
       "        vertical-align: top;\n",
       "    }\n",
       "\n",
       "    .dataframe thead th {\n",
       "        text-align: right;\n",
       "    }\n",
       "</style>\n",
       "<table border=\"1\" class=\"dataframe\">\n",
       "  <thead>\n",
       "    <tr style=\"text-align: right;\">\n",
       "      <th></th>\n",
       "      <th>Claim Amount</th>\n",
       "      <th>Close Amount</th>\n",
       "    </tr>\n",
       "  </thead>\n",
       "  <tbody>\n",
       "    <tr>\n",
       "      <th>count</th>\n",
       "      <td>1.392010e+05</td>\n",
       "      <td>139201.000000</td>\n",
       "    </tr>\n",
       "    <tr>\n",
       "      <th>mean</th>\n",
       "      <td>2.706941e+03</td>\n",
       "      <td>91.393863</td>\n",
       "    </tr>\n",
       "    <tr>\n",
       "      <th>std</th>\n",
       "      <td>4.335396e+05</td>\n",
       "      <td>300.049645</td>\n",
       "    </tr>\n",
       "    <tr>\n",
       "      <th>min</th>\n",
       "      <td>8.000000e-01</td>\n",
       "      <td>0.000000</td>\n",
       "    </tr>\n",
       "    <tr>\n",
       "      <th>25%</th>\n",
       "      <td>5.936000e+01</td>\n",
       "      <td>0.000000</td>\n",
       "    </tr>\n",
       "    <tr>\n",
       "      <th>50%</th>\n",
       "      <td>1.590000e+02</td>\n",
       "      <td>7.750000</td>\n",
       "    </tr>\n",
       "    <tr>\n",
       "      <th>75%</th>\n",
       "      <td>4.236000e+02</td>\n",
       "      <td>77.240000</td>\n",
       "    </tr>\n",
       "    <tr>\n",
       "      <th>max</th>\n",
       "      <td>1.250000e+08</td>\n",
       "      <td>20000.000000</td>\n",
       "    </tr>\n",
       "  </tbody>\n",
       "</table>\n",
       "</div>"
      ],
      "text/plain": [
       "       Claim Amount   Close Amount\n",
       "count  1.392010e+05  139201.000000\n",
       "mean   2.706941e+03      91.393863\n",
       "std    4.335396e+05     300.049645\n",
       "min    8.000000e-01       0.000000\n",
       "25%    5.936000e+01       0.000000\n",
       "50%    1.590000e+02       7.750000\n",
       "75%    4.236000e+02      77.240000\n",
       "max    1.250000e+08   20000.000000"
      ]
     },
     "execution_count": 23,
     "metadata": {},
     "output_type": "execute_result"
    }
   ],
   "source": [
    "df.describe()"
   ]
  },
  {
   "cell_type": "markdown",
   "id": "b25aa140",
   "metadata": {},
   "source": [
    "# export"
   ]
  },
  {
   "cell_type": "code",
   "execution_count": 30,
   "id": "cf39d1a1",
   "metadata": {},
   "outputs": [],
   "source": [
    "df.to_csv(os.path.join(path, 'Data', 'Prepared Data', 'TSA Claims Cleaned Data.csv'))"
   ]
  },
  {
   "cell_type": "code",
   "execution_count": null,
   "id": "fd57ff95",
   "metadata": {},
   "outputs": [],
   "source": []
  }
 ],
 "metadata": {
  "kernelspec": {
   "display_name": "Python 3 (ipykernel)",
   "language": "python",
   "name": "python3"
  },
  "language_info": {
   "codemirror_mode": {
    "name": "ipython",
    "version": 3
   },
   "file_extension": ".py",
   "mimetype": "text/x-python",
   "name": "python",
   "nbconvert_exporter": "python",
   "pygments_lexer": "ipython3",
   "version": "3.9.7"
  }
 },
 "nbformat": 4,
 "nbformat_minor": 5
}
