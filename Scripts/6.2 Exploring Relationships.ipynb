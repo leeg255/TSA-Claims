{
 "cells": [
  {
   "cell_type": "markdown",
   "id": "f3d086aa",
   "metadata": {},
   "source": [
    "# import"
   ]
  },
  {
   "cell_type": "code",
   "execution_count": 5,
   "id": "6f27c03b",
   "metadata": {},
   "outputs": [],
   "source": [
    "import pandas as pd\n",
    "import numpy as np\n",
    "import os\n",
    "import matplotlib.pyplot as plt\n",
    "import seaborn as sns\n",
    "import scipy"
   ]
  },
  {
   "cell_type": "markdown",
   "id": "e55069cf",
   "metadata": {},
   "source": [
    "# path to string"
   ]
  },
  {
   "cell_type": "code",
   "execution_count": 6,
   "id": "fb0ddcf7",
   "metadata": {},
   "outputs": [],
   "source": [
    "path = r'C:\\Users\\leevg\\OneDrive\\Desktop\\CF\\DI\\A6'"
   ]
  },
  {
   "cell_type": "code",
   "execution_count": 7,
   "id": "d4916245",
   "metadata": {},
   "outputs": [],
   "source": [
    "%matplotlib inline"
   ]
  },
  {
   "cell_type": "markdown",
   "id": "132d95d1",
   "metadata": {},
   "source": [
    "# import data"
   ]
  },
  {
   "cell_type": "code",
   "execution_count": 12,
   "id": "a4b026f4",
   "metadata": {},
   "outputs": [],
   "source": [
    "df = pd.read_csv(os.path.join(path, 'Data', 'Prepared Data', 'TSA Claims Cleaned Data.csv'))"
   ]
  },
  {
   "cell_type": "code",
   "execution_count": 13,
   "id": "bfeae0ea",
   "metadata": {
    "scrolled": true
   },
   "outputs": [
    {
     "data": {
      "text/html": [
       "<div>\n",
       "<style scoped>\n",
       "    .dataframe tbody tr th:only-of-type {\n",
       "        vertical-align: middle;\n",
       "    }\n",
       "\n",
       "    .dataframe tbody tr th {\n",
       "        vertical-align: top;\n",
       "    }\n",
       "\n",
       "    .dataframe thead th {\n",
       "        text-align: right;\n",
       "    }\n",
       "</style>\n",
       "<table border=\"1\" class=\"dataframe\">\n",
       "  <thead>\n",
       "    <tr style=\"text-align: right;\">\n",
       "      <th></th>\n",
       "      <th>Unnamed: 0</th>\n",
       "      <th>Date Received</th>\n",
       "      <th>Incident Date</th>\n",
       "      <th>State</th>\n",
       "      <th>Airport Name</th>\n",
       "      <th>Airline Name</th>\n",
       "      <th>Claim Type</th>\n",
       "      <th>Claim Site</th>\n",
       "      <th>Item</th>\n",
       "      <th>Claim Amount</th>\n",
       "      <th>Status</th>\n",
       "      <th>Close Amount</th>\n",
       "      <th>Disposition</th>\n",
       "    </tr>\n",
       "  </thead>\n",
       "  <tbody>\n",
       "    <tr>\n",
       "      <th>0</th>\n",
       "      <td>0</td>\n",
       "      <td>6/20/02</td>\n",
       "      <td>5/9/02</td>\n",
       "      <td>Maryland</td>\n",
       "      <td>Baltimore/Washington Intl Thurgood Marshall</td>\n",
       "      <td>Southwest Airlines</td>\n",
       "      <td>Other</td>\n",
       "      <td>Checkpoint</td>\n",
       "      <td>Clothing</td>\n",
       "      <td>75.00</td>\n",
       "      <td>Approved</td>\n",
       "      <td>75.0</td>\n",
       "      <td>Approve in Full</td>\n",
       "    </tr>\n",
       "    <tr>\n",
       "      <th>1</th>\n",
       "      <td>1</td>\n",
       "      <td>6/20/02</td>\n",
       "      <td>6/16/02</td>\n",
       "      <td>Arizona</td>\n",
       "      <td>Phoenix Sky Harbor International</td>\n",
       "      <td>Other</td>\n",
       "      <td>Property Damage</td>\n",
       "      <td>Checkpoint</td>\n",
       "      <td>Computers</td>\n",
       "      <td>2270.09</td>\n",
       "      <td>Canceled</td>\n",
       "      <td>0.0</td>\n",
       "      <td>Cancel</td>\n",
       "    </tr>\n",
       "    <tr>\n",
       "      <th>2</th>\n",
       "      <td>2</td>\n",
       "      <td>6/25/02</td>\n",
       "      <td>5/4/02</td>\n",
       "      <td>Georgia</td>\n",
       "      <td>Hartsfield-Jackson Atlanta International Airport</td>\n",
       "      <td>Other</td>\n",
       "      <td>Passenger Property Loss</td>\n",
       "      <td>Checkpoint</td>\n",
       "      <td>Jewelry</td>\n",
       "      <td>4457.29</td>\n",
       "      <td>Denied</td>\n",
       "      <td>0.0</td>\n",
       "      <td>Deny</td>\n",
       "    </tr>\n",
       "    <tr>\n",
       "      <th>3</th>\n",
       "      <td>3</td>\n",
       "      <td>7/8/02</td>\n",
       "      <td>6/12/02</td>\n",
       "      <td>Maryland</td>\n",
       "      <td>Baltimore/Washington Intl Thurgood Marshall</td>\n",
       "      <td>American Airlines</td>\n",
       "      <td>Other</td>\n",
       "      <td>Checkpoint</td>\n",
       "      <td>Glasses &amp; Contacts</td>\n",
       "      <td>16.71</td>\n",
       "      <td>Approved</td>\n",
       "      <td>17.0</td>\n",
       "      <td>Approve in Full</td>\n",
       "    </tr>\n",
       "    <tr>\n",
       "      <th>4</th>\n",
       "      <td>4</td>\n",
       "      <td>7/8/02</td>\n",
       "      <td>6/4/02</td>\n",
       "      <td>Maryland</td>\n",
       "      <td>Baltimore/Washington Intl Thurgood Marshall</td>\n",
       "      <td>Southwest Airlines</td>\n",
       "      <td>Other</td>\n",
       "      <td>Other</td>\n",
       "      <td>Clothing</td>\n",
       "      <td>450.00</td>\n",
       "      <td>Canceled</td>\n",
       "      <td>0.0</td>\n",
       "      <td>Cancel</td>\n",
       "    </tr>\n",
       "  </tbody>\n",
       "</table>\n",
       "</div>"
      ],
      "text/plain": [
       "   Unnamed: 0 Date Received Incident Date     State  \\\n",
       "0           0       6/20/02        5/9/02  Maryland   \n",
       "1           1       6/20/02       6/16/02   Arizona   \n",
       "2           2       6/25/02        5/4/02   Georgia   \n",
       "3           3        7/8/02       6/12/02  Maryland   \n",
       "4           4        7/8/02        6/4/02  Maryland   \n",
       "\n",
       "                                       Airport Name        Airline Name  \\\n",
       "0       Baltimore/Washington Intl Thurgood Marshall  Southwest Airlines   \n",
       "1                  Phoenix Sky Harbor International               Other   \n",
       "2  Hartsfield-Jackson Atlanta International Airport               Other   \n",
       "3       Baltimore/Washington Intl Thurgood Marshall   American Airlines   \n",
       "4       Baltimore/Washington Intl Thurgood Marshall  Southwest Airlines   \n",
       "\n",
       "                Claim Type  Claim Site                Item  Claim Amount  \\\n",
       "0                    Other  Checkpoint            Clothing         75.00   \n",
       "1          Property Damage  Checkpoint           Computers       2270.09   \n",
       "2  Passenger Property Loss  Checkpoint             Jewelry       4457.29   \n",
       "3                    Other  Checkpoint  Glasses & Contacts         16.71   \n",
       "4                    Other       Other            Clothing        450.00   \n",
       "\n",
       "     Status  Close Amount      Disposition  \n",
       "0  Approved          75.0  Approve in Full  \n",
       "1  Canceled           0.0           Cancel  \n",
       "2    Denied           0.0             Deny  \n",
       "3  Approved          17.0  Approve in Full  \n",
       "4  Canceled           0.0           Cancel  "
      ]
     },
     "execution_count": 13,
     "metadata": {},
     "output_type": "execute_result"
    }
   ],
   "source": [
    "df.head()"
   ]
  },
  {
   "cell_type": "code",
   "execution_count": 14,
   "id": "55ffc410",
   "metadata": {},
   "outputs": [],
   "source": [
    "df = df.drop(columns = 'Unnamed: 0')"
   ]
  },
  {
   "cell_type": "markdown",
   "id": "d562653e",
   "metadata": {},
   "source": [
    "# correlation plot"
   ]
  },
  {
   "cell_type": "code",
   "execution_count": 15,
   "id": "313bbaaf",
   "metadata": {},
   "outputs": [
    {
     "data": {
      "text/html": [
       "<div>\n",
       "<style scoped>\n",
       "    .dataframe tbody tr th:only-of-type {\n",
       "        vertical-align: middle;\n",
       "    }\n",
       "\n",
       "    .dataframe tbody tr th {\n",
       "        vertical-align: top;\n",
       "    }\n",
       "\n",
       "    .dataframe thead th {\n",
       "        text-align: right;\n",
       "    }\n",
       "</style>\n",
       "<table border=\"1\" class=\"dataframe\">\n",
       "  <thead>\n",
       "    <tr style=\"text-align: right;\">\n",
       "      <th></th>\n",
       "      <th>Claim Amount</th>\n",
       "      <th>Close Amount</th>\n",
       "    </tr>\n",
       "  </thead>\n",
       "  <tbody>\n",
       "    <tr>\n",
       "      <th>Claim Amount</th>\n",
       "      <td>1.000000</td>\n",
       "      <td>-0.000395</td>\n",
       "    </tr>\n",
       "    <tr>\n",
       "      <th>Close Amount</th>\n",
       "      <td>-0.000395</td>\n",
       "      <td>1.000000</td>\n",
       "    </tr>\n",
       "  </tbody>\n",
       "</table>\n",
       "</div>"
      ],
      "text/plain": [
       "              Claim Amount  Close Amount\n",
       "Claim Amount      1.000000     -0.000395\n",
       "Close Amount     -0.000395      1.000000"
      ]
     },
     "execution_count": 15,
     "metadata": {},
     "output_type": "execute_result"
    }
   ],
   "source": [
    "# pandas correlation matrix\n",
    "\n",
    "df.corr()"
   ]
  },
  {
   "cell_type": "code",
   "execution_count": 16,
   "id": "3438e003",
   "metadata": {},
   "outputs": [
    {
     "data": {
      "image/png": "[encoded data removed]",
      "text/plain": [
       "<Figure size 288x288 with 1 Axes>"
      ]
     },
     "metadata": {
      "needs_background": "light"
     },
     "output_type": "display_data"
    }
   ],
   "source": [
    "# matplotlib correlation heatmap\n",
    "\n",
    "plt.matshow(df.corr())\n",
    "plt.show()"
   ]
  },
  {
   "cell_type": "code",
   "execution_count": 17,
   "id": "5728671a",
   "metadata": {},
   "outputs": [],
   "source": [
    "# using the code from the Taipei housing example notebook"
   ]
  },
  {
   "cell_type": "code",
   "execution_count": 18,
   "id": "bcb21090",
   "metadata": {},
   "outputs": [
    {
     "data": {
      "text/plain": [
       "Text(0.5, 1.0, 'Correlation Matrix')"
      ]
     },
     "execution_count": 18,
     "metadata": {},
     "output_type": "execute_result"
    },
    {
     "data": {
      "image/png": "[encoded data removed]",
      "text/plain": [
       "<Figure size 576x576 with 2 Axes>"
      ]
     },
     "metadata": {
      "needs_background": "light"
     },
     "output_type": "display_data"
    }
   ],
   "source": [
    "f = plt.figure(figsize=(8, 8)) # figure size \n",
    "plt.matshow(df.corr(), fignum=f.number) # type of plot\n",
    "plt.xticks(range(df.shape[1]), df.columns, fontsize=14, rotation=90) # x axis labels\n",
    "plt.yticks(range(df.shape[1]), df.columns, fontsize=14) # y axis labels\n",
    "cb = plt.colorbar() # add a colour legend (called colorbar)\n",
    "cb.ax.tick_params(labelsize=14) # add font size\n",
    "plt.title('Correlation Matrix', fontsize=14) # add title"
   ]
  },
  {
   "cell_type": "markdown",
   "id": "9b62fd25",
   "metadata": {},
   "source": [
    "# correlation heat map"
   ]
  },
  {
   "cell_type": "code",
   "execution_count": 19,
   "id": "aa3552a8",
   "metadata": {},
   "outputs": [
    {
     "data": {
      "text/plain": [
       "Index(['Date Received', 'Incident Date', 'State', 'Airport Name',\n",
       "       'Airline Name', 'Claim Type', 'Claim Site', 'Item', 'Claim Amount',\n",
       "       'Status', 'Close Amount', 'Disposition'],\n",
       "      dtype='object')"
      ]
     },
     "execution_count": 19,
     "metadata": {},
     "output_type": "execute_result"
    }
   ],
   "source": [
    "df.columns"
   ]
  },
  {
   "cell_type": "code",
   "execution_count": 20,
   "id": "8de83e2f",
   "metadata": {},
   "outputs": [],
   "source": [
    "# create subset with the only continuous variables\n",
    "\n",
    "sub = df[['Claim Amount', 'Close Amount']]"
   ]
  },
  {
   "cell_type": "code",
   "execution_count": 21,
   "id": "d1356d52",
   "metadata": {},
   "outputs": [
    {
     "data": {
      "text/html": [
       "<div>\n",
       "<style scoped>\n",
       "    .dataframe tbody tr th:only-of-type {\n",
       "        vertical-align: middle;\n",
       "    }\n",
       "\n",
       "    .dataframe tbody tr th {\n",
       "        vertical-align: top;\n",
       "    }\n",
       "\n",
       "    .dataframe thead th {\n",
       "        text-align: right;\n",
       "    }\n",
       "</style>\n",
       "<table border=\"1\" class=\"dataframe\">\n",
       "  <thead>\n",
       "    <tr style=\"text-align: right;\">\n",
       "      <th></th>\n",
       "      <th>Claim Amount</th>\n",
       "      <th>Close Amount</th>\n",
       "    </tr>\n",
       "  </thead>\n",
       "  <tbody>\n",
       "    <tr>\n",
       "      <th>0</th>\n",
       "      <td>75.00</td>\n",
       "      <td>75.00</td>\n",
       "    </tr>\n",
       "    <tr>\n",
       "      <th>1</th>\n",
       "      <td>2270.09</td>\n",
       "      <td>0.00</td>\n",
       "    </tr>\n",
       "    <tr>\n",
       "      <th>2</th>\n",
       "      <td>4457.29</td>\n",
       "      <td>0.00</td>\n",
       "    </tr>\n",
       "    <tr>\n",
       "      <th>3</th>\n",
       "      <td>16.71</td>\n",
       "      <td>17.00</td>\n",
       "    </tr>\n",
       "    <tr>\n",
       "      <th>4</th>\n",
       "      <td>450.00</td>\n",
       "      <td>0.00</td>\n",
       "    </tr>\n",
       "    <tr>\n",
       "      <th>...</th>\n",
       "      <td>...</td>\n",
       "      <td>...</td>\n",
       "    </tr>\n",
       "    <tr>\n",
       "      <th>139196</th>\n",
       "      <td>106.00</td>\n",
       "      <td>106.00</td>\n",
       "    </tr>\n",
       "    <tr>\n",
       "      <th>139197</th>\n",
       "      <td>40.00</td>\n",
       "      <td>40.00</td>\n",
       "    </tr>\n",
       "    <tr>\n",
       "      <th>139198</th>\n",
       "      <td>149.99</td>\n",
       "      <td>149.99</td>\n",
       "    </tr>\n",
       "    <tr>\n",
       "      <th>139199</th>\n",
       "      <td>46.51</td>\n",
       "      <td>46.51</td>\n",
       "    </tr>\n",
       "    <tr>\n",
       "      <th>139200</th>\n",
       "      <td>106.99</td>\n",
       "      <td>106.99</td>\n",
       "    </tr>\n",
       "  </tbody>\n",
       "</table>\n",
       "<p>139201 rows × 2 columns</p>\n",
       "</div>"
      ],
      "text/plain": [
       "        Claim Amount  Close Amount\n",
       "0              75.00         75.00\n",
       "1            2270.09          0.00\n",
       "2            4457.29          0.00\n",
       "3              16.71         17.00\n",
       "4             450.00          0.00\n",
       "...              ...           ...\n",
       "139196        106.00        106.00\n",
       "139197         40.00         40.00\n",
       "139198        149.99        149.99\n",
       "139199         46.51         46.51\n",
       "139200        106.99        106.99\n",
       "\n",
       "[139201 rows x 2 columns]"
      ]
     },
     "execution_count": 21,
     "metadata": {},
     "output_type": "execute_result"
    }
   ],
   "source": [
    "sub"
   ]
  },
  {
   "cell_type": "code",
   "execution_count": 22,
   "id": "9a9e42e7",
   "metadata": {
    "scrolled": true
   },
   "outputs": [
    {
     "data": {
      "image/png": "[encoded data removed]",
      "text/plain": [
       "<Figure size 360x360 with 2 Axes>"
      ]
     },
     "metadata": {
      "needs_background": "light"
     },
     "output_type": "display_data"
    }
   ],
   "source": [
    "# matplotlib subplot\n",
    "f,ax = plt.subplots(figsize=(5,5))\n",
    "\n",
    "# apply heatmap onto the correlation matrix and subplot\n",
    "corr = sns.heatmap(sub.corr(), annot = True, ax = ax)"
   ]
  },
  {
   "cell_type": "code",
   "execution_count": 23,
   "id": "a5b097ba",
   "metadata": {},
   "outputs": [],
   "source": [
    "# This shows no correlation at all between the two variables."
   ]
  },
  {
   "cell_type": "markdown",
   "id": "0fd1b2f3",
   "metadata": {},
   "source": [
    "# scatter plot"
   ]
  },
  {
   "cell_type": "code",
   "execution_count": 24,
   "id": "b3aeaa63",
   "metadata": {
    "scrolled": true
   },
   "outputs": [
    {
     "data": {
      "text/plain": [
       "<seaborn.axisgrid.FacetGrid at 0x1fd96115be0>"
      ]
     },
     "execution_count": 24,
     "metadata": {},
     "output_type": "execute_result"
    },
    {
     "data": {
      "image/png": "[encoded data removed]",
      "text/plain": [
       "<Figure size 360x360 with 1 Axes>"
      ]
     },
     "metadata": {
      "needs_background": "light"
     },
     "output_type": "display_data"
    }
   ],
   "source": [
    "sns.lmplot(x = 'Claim Amount', y = 'Close Amount', data = df)"
   ]
  },
  {
   "cell_type": "code",
   "execution_count": 25,
   "id": "22fab97c",
   "metadata": {},
   "outputs": [],
   "source": [
    "# Again, there is zero correlation between the claim amount and the close amount."
   ]
  },
  {
   "cell_type": "markdown",
   "id": "b3e79eaf",
   "metadata": {},
   "source": [
    "# pair plot"
   ]
  },
  {
   "cell_type": "code",
   "execution_count": 26,
   "id": "829ad5a6",
   "metadata": {},
   "outputs": [],
   "source": [
    "# I ran the code below to create a pair plot, but every time it crashed my computer for hours and was never able to complete."
   ]
  },
  {
   "cell_type": "code",
   "execution_count": 27,
   "id": "febddcb3",
   "metadata": {},
   "outputs": [],
   "source": [
    "# g = sns.pairplot(sub)"
   ]
  },
  {
   "cell_type": "markdown",
   "id": "b3126db4",
   "metadata": {},
   "source": [
    "# categorical plot"
   ]
  },
  {
   "cell_type": "code",
   "execution_count": 28,
   "id": "ef68db81",
   "metadata": {},
   "outputs": [
    {
     "data": {
      "text/plain": [
       "<AxesSubplot:xlabel='Close Amount', ylabel='Count'>"
      ]
     },
     "execution_count": 28,
     "metadata": {},
     "output_type": "execute_result"
    },
    {
     "data": {
      "image/png": "[encoded data removed]",
      "text/plain": [
       "<Figure size 432x288 with 1 Axes>"
      ]
     },
     "metadata": {
      "needs_background": "light"
     },
     "output_type": "display_data"
    }
   ],
   "source": [
    "# visualize the distribution of variables with a histogram\n",
    "\n",
    "sns.histplot(df['Close Amount'], bins = 100, kde = True)"
   ]
  },
  {
   "cell_type": "code",
   "execution_count": 29,
   "id": "74ab63d0",
   "metadata": {},
   "outputs": [],
   "source": [
    "df.loc[df['Close Amount'] < 50, 'Close Category'] = 'Low price'"
   ]
  },
  {
   "cell_type": "code",
   "execution_count": 30,
   "id": "71bc618e",
   "metadata": {},
   "outputs": [],
   "source": [
    "df.loc[(df['Close Amount'] >= 50) & (df['Close Amount'] < 200), 'Close Category'] = 'Medium Price'"
   ]
  },
  {
   "cell_type": "code",
   "execution_count": 31,
   "id": "bb087c66",
   "metadata": {},
   "outputs": [],
   "source": [
    "df.loc[df['Close Amount'] >= 200, 'Close Category'] = 'High Price'"
   ]
  },
  {
   "cell_type": "code",
   "execution_count": 32,
   "id": "c6f278a8",
   "metadata": {},
   "outputs": [
    {
     "data": {
      "text/plain": [
       "Low price       91825\n",
       "Medium Price    31215\n",
       "High Price      16161\n",
       "Name: Close Category, dtype: int64"
      ]
     },
     "execution_count": 32,
     "metadata": {},
     "output_type": "execute_result"
    }
   ],
   "source": [
    "df['Close Category'].value_counts(dropna = False)"
   ]
  },
  {
   "cell_type": "code",
   "execution_count": 33,
   "id": "4e03cc56",
   "metadata": {},
   "outputs": [
    {
     "data": {
      "text/plain": [
       "Index(['Date Received', 'Incident Date', 'State', 'Airport Name',\n",
       "       'Airline Name', 'Claim Type', 'Claim Site', 'Item', 'Claim Amount',\n",
       "       'Status', 'Close Amount', 'Disposition', 'Close Category'],\n",
       "      dtype='object')"
      ]
     },
     "execution_count": 33,
     "metadata": {},
     "output_type": "execute_result"
    }
   ],
   "source": [
    "df.columns"
   ]
  },
  {
   "cell_type": "code",
   "execution_count": 34,
   "id": "64fb50ed",
   "metadata": {
    "scrolled": true
   },
   "outputs": [
    {
     "data": {
      "text/plain": [
       "(array([0, 1, 2, 3, 4, 5, 6, 7]),\n",
       " [Text(0, 0, 'Other'),\n",
       "  Text(1, 0, 'Property Damage'),\n",
       "  Text(2, 0, 'Passenger Property Loss'),\n",
       "  Text(3, 0, 'Personal Injury'),\n",
       "  Text(4, 0, 'Passenger Theft'),\n",
       "  Text(5, 0, 'Employee Loss (MPCECA)'),\n",
       "  Text(6, 0, 'Motor Vehicle'),\n",
       "  Text(7, 0, 'Complaint')])"
      ]
     },
     "execution_count": 34,
     "metadata": {},
     "output_type": "execute_result"
    },
    {
     "data": {
      "image/png": "[encoded data removed]",
      "text/plain": [
       "<Figure size 467.225x360 with 1 Axes>"
      ]
     },
     "metadata": {},
     "output_type": "display_data"
    }
   ],
   "source": [
    "sns.set(style = 'ticks')\n",
    "g = sns.catplot(x = 'Claim Type', y = 'Close Amount', hue = 'Close Category', data = df)\n",
    "plt.xticks(rotation=90)"
   ]
  },
  {
   "cell_type": "code",
   "execution_count": 40,
   "id": "7fda1c32",
   "metadata": {
    "scrolled": true
   },
   "outputs": [
    {
     "data": {
      "text/plain": [
       "(array([0, 1, 2, 3]),\n",
       " [Text(0, 0, 'Approved'),\n",
       "  Text(1, 0, 'Canceled'),\n",
       "  Text(2, 0, 'Denied'),\n",
       "  Text(3, 0, 'Settled')])"
      ]
     },
     "execution_count": 40,
     "metadata": {},
     "output_type": "execute_result"
    },
    {
     "data": {
      "image/png": "[encoded data removed]",
      "text/plain": [
       "<Figure size 467.225x360 with 1 Axes>"
      ]
     },
     "metadata": {},
     "output_type": "display_data"
    }
   ],
   "source": [
    "sns.set(style = 'ticks')\n",
    "g = sns.catplot(x = 'Status', y = 'Close Amount', hue = 'Close Category', data = df)\n",
    "plt.xticks(rotation=90)"
   ]
  },
  {
   "cell_type": "markdown",
   "id": "318ae7b5",
   "metadata": {},
   "source": [
    "# Answers to Past Questions"
   ]
  },
  {
   "cell_type": "markdown",
   "id": "d21cb0b9",
   "metadata": {},
   "source": [
    "# 1) The majority of claims filed are regarding property damage or loss."
   ]
  },
  {
   "cell_type": "markdown",
   "id": "a10d2bd1",
   "metadata": {},
   "source": [
    "# 2) The highest amount paid is around $20,000"
   ]
  },
  {
   "cell_type": "markdown",
   "id": "cd6806ab",
   "metadata": {},
   "source": [
    "# New Questions"
   ]
  },
  {
   "cell_type": "markdown",
   "id": "3b840550",
   "metadata": {},
   "source": [
    " # 1) Are expensive claims more likely to be denied?"
   ]
  },
  {
   "cell_type": "markdown",
   "id": "892c05b5",
   "metadata": {},
   "source": [
    "# 2) Settled claims are what average percent of their original value?"
   ]
  },
  {
   "cell_type": "markdown",
   "id": "b38a7b84",
   "metadata": {},
   "source": [
    "# Hypotheses"
   ]
  },
  {
   "cell_type": "markdown",
   "id": "0a9c16fd",
   "metadata": {},
   "source": [
    "# 1) Expensive claims are more likely to be denied"
   ]
  },
  {
   "cell_type": "markdown",
   "id": "4d44d5cf",
   "metadata": {},
   "source": [
    "# 2) Canceled claims are more likely to be low priced. Perhaps people think the procedure is not worth it and cancel."
   ]
  },
  {
   "cell_type": "markdown",
   "id": "bf83c281",
   "metadata": {},
   "source": [
    "# Export"
   ]
  },
  {
   "cell_type": "code",
   "execution_count": 35,
   "id": "02123a57",
   "metadata": {},
   "outputs": [],
   "source": [
    "df.to_csv(os.path.join(path, 'Data', 'Prepared Data', 'TSA Claims Task 6.2.csv'))"
   ]
  },
  {
   "cell_type": "code",
   "execution_count": null,
   "id": "3849e128",
   "metadata": {},
   "outputs": [],
   "source": []
  }
 ],
 "metadata": {
  "kernelspec": {
   "display_name": "Python 3 (ipykernel)",
   "language": "python",
   "name": "python3"
  },
  "language_info": {
   "codemirror_mode": {
    "name": "ipython",
    "version": 3
   },
   "file_extension": ".py",
   "mimetype": "text/x-python",
   "name": "python",
   "nbconvert_exporter": "python",
   "pygments_lexer": "ipython3",
   "version": "3.9.7"
  }
 },
 "nbformat": 4,
 "nbformat_minor": 5
}
