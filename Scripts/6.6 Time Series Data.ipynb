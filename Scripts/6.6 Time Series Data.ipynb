{
 "cells": [
  {
   "cell_type": "markdown",
   "id": "4166a395",
   "metadata": {},
   "source": [
    "# import"
   ]
  },
  {
   "cell_type": "code",
   "execution_count": 1,
   "id": "35f2d219",
   "metadata": {},
   "outputs": [],
   "source": [
    "import pandas as pd\n",
    "import numpy as np\n",
    "import seaborn as sns\n",
    "import matplotlib\n",
    "import matplotlib.pyplot as plt\n",
    "import os\n",
    "import quandl\n",
    "import statsmodels.api as sm\n",
    "import warnings\n",
    "\n",
    "warnings.filterwarnings(\"ignore\")\n",
    "\n",
    "plt.style.use('fivethirtyeight')"
   ]
  },
  {
   "cell_type": "markdown",
   "id": "8156b211",
   "metadata": {},
   "source": [
    "# path to string"
   ]
  },
  {
   "cell_type": "code",
   "execution_count": 2,
   "id": "f5e0c694",
   "metadata": {},
   "outputs": [],
   "source": [
    "path = 'C:/Users/leevg/OneDrive/Desktop/CF/DI/A6'"
   ]
  },
  {
   "cell_type": "markdown",
   "id": "b631571a",
   "metadata": {},
   "source": [
    "# import data"
   ]
  },
  {
   "cell_type": "code",
   "execution_count": 3,
   "id": "1f07c5f1",
   "metadata": {},
   "outputs": [],
   "source": [
    "df = pd.read_csv(os.path.join(path, 'Data', 'Prepared Data', 'TSA Claims Task 6.6.csv'))"
   ]
  },
  {
   "cell_type": "code",
   "execution_count": 4,
   "id": "0a30f121",
   "metadata": {},
   "outputs": [
    {
     "data": {
      "text/html": [
       "<div>\n",
       "<style scoped>\n",
       "    .dataframe tbody tr th:only-of-type {\n",
       "        vertical-align: middle;\n",
       "    }\n",
       "\n",
       "    .dataframe tbody tr th {\n",
       "        vertical-align: top;\n",
       "    }\n",
       "\n",
       "    .dataframe thead th {\n",
       "        text-align: right;\n",
       "    }\n",
       "</style>\n",
       "<table border=\"1\" class=\"dataframe\">\n",
       "  <thead>\n",
       "    <tr style=\"text-align: right;\">\n",
       "      <th></th>\n",
       "      <th>Unnamed: 0</th>\n",
       "      <th>Date Received</th>\n",
       "      <th>Incident Date</th>\n",
       "      <th>State</th>\n",
       "      <th>Airport Name</th>\n",
       "      <th>Airline Name</th>\n",
       "      <th>Claim Type</th>\n",
       "      <th>Claim Site</th>\n",
       "      <th>Item</th>\n",
       "      <th>Claim Amount</th>\n",
       "      <th>Status</th>\n",
       "      <th>Close Amount</th>\n",
       "      <th>Disposition</th>\n",
       "      <th>Close Category</th>\n",
       "    </tr>\n",
       "  </thead>\n",
       "  <tbody>\n",
       "    <tr>\n",
       "      <th>0</th>\n",
       "      <td>0</td>\n",
       "      <td>2002-06-20</td>\n",
       "      <td>2002-05-09</td>\n",
       "      <td>Maryland</td>\n",
       "      <td>Baltimore/Washington Intl Thurgood Marshall</td>\n",
       "      <td>Southwest Airlines</td>\n",
       "      <td>Other</td>\n",
       "      <td>Checkpoint</td>\n",
       "      <td>Clothing</td>\n",
       "      <td>75.00</td>\n",
       "      <td>Approved</td>\n",
       "      <td>75.0</td>\n",
       "      <td>Approve in Full</td>\n",
       "      <td>Medium Price</td>\n",
       "    </tr>\n",
       "    <tr>\n",
       "      <th>1</th>\n",
       "      <td>1</td>\n",
       "      <td>2002-06-20</td>\n",
       "      <td>2002-06-16</td>\n",
       "      <td>Arizona</td>\n",
       "      <td>Phoenix Sky Harbor International</td>\n",
       "      <td>Other</td>\n",
       "      <td>Property Damage</td>\n",
       "      <td>Checkpoint</td>\n",
       "      <td>Computers</td>\n",
       "      <td>2270.09</td>\n",
       "      <td>Canceled</td>\n",
       "      <td>0.0</td>\n",
       "      <td>Cancel</td>\n",
       "      <td>Low price</td>\n",
       "    </tr>\n",
       "    <tr>\n",
       "      <th>2</th>\n",
       "      <td>2</td>\n",
       "      <td>2002-06-25</td>\n",
       "      <td>2002-05-04</td>\n",
       "      <td>Georgia</td>\n",
       "      <td>Hartsfield-Jackson Atlanta International Airport</td>\n",
       "      <td>Other</td>\n",
       "      <td>Passenger Property Loss</td>\n",
       "      <td>Checkpoint</td>\n",
       "      <td>Jewelry</td>\n",
       "      <td>4457.29</td>\n",
       "      <td>Denied</td>\n",
       "      <td>0.0</td>\n",
       "      <td>Deny</td>\n",
       "      <td>Low price</td>\n",
       "    </tr>\n",
       "    <tr>\n",
       "      <th>3</th>\n",
       "      <td>3</td>\n",
       "      <td>2002-07-08</td>\n",
       "      <td>2002-06-12</td>\n",
       "      <td>Maryland</td>\n",
       "      <td>Baltimore/Washington Intl Thurgood Marshall</td>\n",
       "      <td>American Airlines</td>\n",
       "      <td>Other</td>\n",
       "      <td>Checkpoint</td>\n",
       "      <td>Glasses &amp; Contacts</td>\n",
       "      <td>16.71</td>\n",
       "      <td>Approved</td>\n",
       "      <td>17.0</td>\n",
       "      <td>Approve in Full</td>\n",
       "      <td>Low price</td>\n",
       "    </tr>\n",
       "    <tr>\n",
       "      <th>4</th>\n",
       "      <td>4</td>\n",
       "      <td>2002-07-08</td>\n",
       "      <td>2002-06-04</td>\n",
       "      <td>Maryland</td>\n",
       "      <td>Baltimore/Washington Intl Thurgood Marshall</td>\n",
       "      <td>Southwest Airlines</td>\n",
       "      <td>Other</td>\n",
       "      <td>Other</td>\n",
       "      <td>Clothing</td>\n",
       "      <td>450.00</td>\n",
       "      <td>Canceled</td>\n",
       "      <td>0.0</td>\n",
       "      <td>Cancel</td>\n",
       "      <td>Low price</td>\n",
       "    </tr>\n",
       "  </tbody>\n",
       "</table>\n",
       "</div>"
      ],
      "text/plain": [
       "   Unnamed: 0 Date Received Incident Date     State  \\\n",
       "0           0    2002-06-20    2002-05-09  Maryland   \n",
       "1           1    2002-06-20    2002-06-16   Arizona   \n",
       "2           2    2002-06-25    2002-05-04   Georgia   \n",
       "3           3    2002-07-08    2002-06-12  Maryland   \n",
       "4           4    2002-07-08    2002-06-04  Maryland   \n",
       "\n",
       "                                       Airport Name        Airline Name  \\\n",
       "0       Baltimore/Washington Intl Thurgood Marshall  Southwest Airlines   \n",
       "1                  Phoenix Sky Harbor International               Other   \n",
       "2  Hartsfield-Jackson Atlanta International Airport               Other   \n",
       "3       Baltimore/Washington Intl Thurgood Marshall   American Airlines   \n",
       "4       Baltimore/Washington Intl Thurgood Marshall  Southwest Airlines   \n",
       "\n",
       "                Claim Type  Claim Site                Item  Claim Amount  \\\n",
       "0                    Other  Checkpoint            Clothing         75.00   \n",
       "1          Property Damage  Checkpoint           Computers       2270.09   \n",
       "2  Passenger Property Loss  Checkpoint             Jewelry       4457.29   \n",
       "3                    Other  Checkpoint  Glasses & Contacts         16.71   \n",
       "4                    Other       Other            Clothing        450.00   \n",
       "\n",
       "     Status  Close Amount      Disposition Close Category  \n",
       "0  Approved          75.0  Approve in Full   Medium Price  \n",
       "1  Canceled           0.0           Cancel      Low price  \n",
       "2    Denied           0.0             Deny      Low price  \n",
       "3  Approved          17.0  Approve in Full      Low price  \n",
       "4  Canceled           0.0           Cancel      Low price  "
      ]
     },
     "execution_count": 4,
     "metadata": {},
     "output_type": "execute_result"
    }
   ],
   "source": [
    "df.head()"
   ]
  },
  {
   "cell_type": "code",
   "execution_count": 5,
   "id": "de5302af",
   "metadata": {},
   "outputs": [],
   "source": [
    "df = df.drop(columns = 'Unnamed: 0')"
   ]
  },
  {
   "cell_type": "code",
   "execution_count": 6,
   "id": "01ec2ace",
   "metadata": {},
   "outputs": [
    {
     "data": {
      "text/html": [
       "<div>\n",
       "<style scoped>\n",
       "    .dataframe tbody tr th:only-of-type {\n",
       "        vertical-align: middle;\n",
       "    }\n",
       "\n",
       "    .dataframe tbody tr th {\n",
       "        vertical-align: top;\n",
       "    }\n",
       "\n",
       "    .dataframe thead th {\n",
       "        text-align: right;\n",
       "    }\n",
       "</style>\n",
       "<table border=\"1\" class=\"dataframe\">\n",
       "  <thead>\n",
       "    <tr style=\"text-align: right;\">\n",
       "      <th></th>\n",
       "      <th>Date Received</th>\n",
       "      <th>Incident Date</th>\n",
       "      <th>State</th>\n",
       "      <th>Airport Name</th>\n",
       "      <th>Airline Name</th>\n",
       "      <th>Claim Type</th>\n",
       "      <th>Claim Site</th>\n",
       "      <th>Item</th>\n",
       "      <th>Claim Amount</th>\n",
       "      <th>Status</th>\n",
       "      <th>Close Amount</th>\n",
       "      <th>Disposition</th>\n",
       "      <th>Close Category</th>\n",
       "    </tr>\n",
       "  </thead>\n",
       "  <tbody>\n",
       "    <tr>\n",
       "      <th>0</th>\n",
       "      <td>2002-06-20</td>\n",
       "      <td>2002-05-09</td>\n",
       "      <td>Maryland</td>\n",
       "      <td>Baltimore/Washington Intl Thurgood Marshall</td>\n",
       "      <td>Southwest Airlines</td>\n",
       "      <td>Other</td>\n",
       "      <td>Checkpoint</td>\n",
       "      <td>Clothing</td>\n",
       "      <td>75.00</td>\n",
       "      <td>Approved</td>\n",
       "      <td>75.0</td>\n",
       "      <td>Approve in Full</td>\n",
       "      <td>Medium Price</td>\n",
       "    </tr>\n",
       "    <tr>\n",
       "      <th>1</th>\n",
       "      <td>2002-06-20</td>\n",
       "      <td>2002-06-16</td>\n",
       "      <td>Arizona</td>\n",
       "      <td>Phoenix Sky Harbor International</td>\n",
       "      <td>Other</td>\n",
       "      <td>Property Damage</td>\n",
       "      <td>Checkpoint</td>\n",
       "      <td>Computers</td>\n",
       "      <td>2270.09</td>\n",
       "      <td>Canceled</td>\n",
       "      <td>0.0</td>\n",
       "      <td>Cancel</td>\n",
       "      <td>Low price</td>\n",
       "    </tr>\n",
       "    <tr>\n",
       "      <th>2</th>\n",
       "      <td>2002-06-25</td>\n",
       "      <td>2002-05-04</td>\n",
       "      <td>Georgia</td>\n",
       "      <td>Hartsfield-Jackson Atlanta International Airport</td>\n",
       "      <td>Other</td>\n",
       "      <td>Passenger Property Loss</td>\n",
       "      <td>Checkpoint</td>\n",
       "      <td>Jewelry</td>\n",
       "      <td>4457.29</td>\n",
       "      <td>Denied</td>\n",
       "      <td>0.0</td>\n",
       "      <td>Deny</td>\n",
       "      <td>Low price</td>\n",
       "    </tr>\n",
       "    <tr>\n",
       "      <th>3</th>\n",
       "      <td>2002-07-08</td>\n",
       "      <td>2002-06-12</td>\n",
       "      <td>Maryland</td>\n",
       "      <td>Baltimore/Washington Intl Thurgood Marshall</td>\n",
       "      <td>American Airlines</td>\n",
       "      <td>Other</td>\n",
       "      <td>Checkpoint</td>\n",
       "      <td>Glasses &amp; Contacts</td>\n",
       "      <td>16.71</td>\n",
       "      <td>Approved</td>\n",
       "      <td>17.0</td>\n",
       "      <td>Approve in Full</td>\n",
       "      <td>Low price</td>\n",
       "    </tr>\n",
       "    <tr>\n",
       "      <th>4</th>\n",
       "      <td>2002-07-08</td>\n",
       "      <td>2002-06-04</td>\n",
       "      <td>Maryland</td>\n",
       "      <td>Baltimore/Washington Intl Thurgood Marshall</td>\n",
       "      <td>Southwest Airlines</td>\n",
       "      <td>Other</td>\n",
       "      <td>Other</td>\n",
       "      <td>Clothing</td>\n",
       "      <td>450.00</td>\n",
       "      <td>Canceled</td>\n",
       "      <td>0.0</td>\n",
       "      <td>Cancel</td>\n",
       "      <td>Low price</td>\n",
       "    </tr>\n",
       "  </tbody>\n",
       "</table>\n",
       "</div>"
      ],
      "text/plain": [
       "  Date Received Incident Date     State  \\\n",
       "0    2002-06-20    2002-05-09  Maryland   \n",
       "1    2002-06-20    2002-06-16   Arizona   \n",
       "2    2002-06-25    2002-05-04   Georgia   \n",
       "3    2002-07-08    2002-06-12  Maryland   \n",
       "4    2002-07-08    2002-06-04  Maryland   \n",
       "\n",
       "                                       Airport Name        Airline Name  \\\n",
       "0       Baltimore/Washington Intl Thurgood Marshall  Southwest Airlines   \n",
       "1                  Phoenix Sky Harbor International               Other   \n",
       "2  Hartsfield-Jackson Atlanta International Airport               Other   \n",
       "3       Baltimore/Washington Intl Thurgood Marshall   American Airlines   \n",
       "4       Baltimore/Washington Intl Thurgood Marshall  Southwest Airlines   \n",
       "\n",
       "                Claim Type  Claim Site                Item  Claim Amount  \\\n",
       "0                    Other  Checkpoint            Clothing         75.00   \n",
       "1          Property Damage  Checkpoint           Computers       2270.09   \n",
       "2  Passenger Property Loss  Checkpoint             Jewelry       4457.29   \n",
       "3                    Other  Checkpoint  Glasses & Contacts         16.71   \n",
       "4                    Other       Other            Clothing        450.00   \n",
       "\n",
       "     Status  Close Amount      Disposition Close Category  \n",
       "0  Approved          75.0  Approve in Full   Medium Price  \n",
       "1  Canceled           0.0           Cancel      Low price  \n",
       "2    Denied           0.0             Deny      Low price  \n",
       "3  Approved          17.0  Approve in Full      Low price  \n",
       "4  Canceled           0.0           Cancel      Low price  "
      ]
     },
     "execution_count": 6,
     "metadata": {},
     "output_type": "execute_result"
    }
   ],
   "source": [
    "df.head()"
   ]
  },
  {
   "cell_type": "code",
   "execution_count": 7,
   "id": "055cfbd0",
   "metadata": {
    "scrolled": true
   },
   "outputs": [
    {
     "data": {
      "text/plain": [
       "(139201, 13)"
      ]
     },
     "execution_count": 7,
     "metadata": {},
     "output_type": "execute_result"
    }
   ],
   "source": [
    "df.shape"
   ]
  },
  {
   "cell_type": "code",
   "execution_count": 8,
   "id": "7eea40b0",
   "metadata": {},
   "outputs": [],
   "source": [
    "df_numerical = df.drop(columns = ['State', 'Airport Name', 'Airline Name', 'Claim Type', 'Claim Site', 'Item', 'Status', 'Disposition', 'Close Category'])"
   ]
  },
  {
   "cell_type": "code",
   "execution_count": 9,
   "id": "1bac7c6b",
   "metadata": {},
   "outputs": [
    {
     "data": {
      "text/plain": [
       "pandas.core.frame.DataFrame"
      ]
     },
     "execution_count": 9,
     "metadata": {},
     "output_type": "execute_result"
    }
   ],
   "source": [
    "type(df_numerical)"
   ]
  },
  {
   "cell_type": "markdown",
   "id": "517b25a1",
   "metadata": {},
   "source": [
    "# subsetting data"
   ]
  },
  {
   "cell_type": "code",
   "execution_count": 10,
   "id": "a19290c1",
   "metadata": {},
   "outputs": [],
   "source": [
    "# reset index to use \"Date\" column as a filter\n",
    "\n",
    "df_2 = df_numerical.reset_index()"
   ]
  },
  {
   "cell_type": "code",
   "execution_count": 11,
   "id": "b0811bff",
   "metadata": {},
   "outputs": [
    {
     "data": {
      "text/html": [
       "<div>\n",
       "<style scoped>\n",
       "    .dataframe tbody tr th:only-of-type {\n",
       "        vertical-align: middle;\n",
       "    }\n",
       "\n",
       "    .dataframe tbody tr th {\n",
       "        vertical-align: top;\n",
       "    }\n",
       "\n",
       "    .dataframe thead th {\n",
       "        text-align: right;\n",
       "    }\n",
       "</style>\n",
       "<table border=\"1\" class=\"dataframe\">\n",
       "  <thead>\n",
       "    <tr style=\"text-align: right;\">\n",
       "      <th></th>\n",
       "      <th>index</th>\n",
       "      <th>Date Received</th>\n",
       "      <th>Incident Date</th>\n",
       "      <th>Claim Amount</th>\n",
       "      <th>Close Amount</th>\n",
       "    </tr>\n",
       "  </thead>\n",
       "  <tbody>\n",
       "    <tr>\n",
       "      <th>0</th>\n",
       "      <td>0</td>\n",
       "      <td>2002-06-20</td>\n",
       "      <td>2002-05-09</td>\n",
       "      <td>75.00</td>\n",
       "      <td>75.0</td>\n",
       "    </tr>\n",
       "    <tr>\n",
       "      <th>1</th>\n",
       "      <td>1</td>\n",
       "      <td>2002-06-20</td>\n",
       "      <td>2002-06-16</td>\n",
       "      <td>2270.09</td>\n",
       "      <td>0.0</td>\n",
       "    </tr>\n",
       "    <tr>\n",
       "      <th>2</th>\n",
       "      <td>2</td>\n",
       "      <td>2002-06-25</td>\n",
       "      <td>2002-05-04</td>\n",
       "      <td>4457.29</td>\n",
       "      <td>0.0</td>\n",
       "    </tr>\n",
       "    <tr>\n",
       "      <th>3</th>\n",
       "      <td>3</td>\n",
       "      <td>2002-07-08</td>\n",
       "      <td>2002-06-12</td>\n",
       "      <td>16.71</td>\n",
       "      <td>17.0</td>\n",
       "    </tr>\n",
       "    <tr>\n",
       "      <th>4</th>\n",
       "      <td>4</td>\n",
       "      <td>2002-07-08</td>\n",
       "      <td>2002-06-04</td>\n",
       "      <td>450.00</td>\n",
       "      <td>0.0</td>\n",
       "    </tr>\n",
       "  </tbody>\n",
       "</table>\n",
       "</div>"
      ],
      "text/plain": [
       "   index Date Received Incident Date  Claim Amount  Close Amount\n",
       "0      0    2002-06-20    2002-05-09         75.00          75.0\n",
       "1      1    2002-06-20    2002-06-16       2270.09           0.0\n",
       "2      2    2002-06-25    2002-05-04       4457.29           0.0\n",
       "3      3    2002-07-08    2002-06-12         16.71          17.0\n",
       "4      4    2002-07-08    2002-06-04        450.00           0.0"
      ]
     },
     "execution_count": 11,
     "metadata": {},
     "output_type": "execute_result"
    }
   ],
   "source": [
    "df_2.head()"
   ]
  },
  {
   "cell_type": "code",
   "execution_count": 12,
   "id": "e705bb09",
   "metadata": {},
   "outputs": [],
   "source": [
    "df_sub = df_2.loc[(df_2['Incident Date'] >= '2010-12-30') & (df_2['Incident Date'] < '2015-12-30')]"
   ]
  },
  {
   "cell_type": "code",
   "execution_count": 13,
   "id": "77ffee41",
   "metadata": {},
   "outputs": [
    {
     "data": {
      "text/plain": [
       "(10205, 5)"
      ]
     },
     "execution_count": 13,
     "metadata": {},
     "output_type": "execute_result"
    }
   ],
   "source": [
    "df_sub.shape"
   ]
  },
  {
   "cell_type": "code",
   "execution_count": 14,
   "id": "bce22a2d",
   "metadata": {},
   "outputs": [
    {
     "data": {
      "text/html": [
       "<div>\n",
       "<style scoped>\n",
       "    .dataframe tbody tr th:only-of-type {\n",
       "        vertical-align: middle;\n",
       "    }\n",
       "\n",
       "    .dataframe tbody tr th {\n",
       "        vertical-align: top;\n",
       "    }\n",
       "\n",
       "    .dataframe thead th {\n",
       "        text-align: right;\n",
       "    }\n",
       "</style>\n",
       "<table border=\"1\" class=\"dataframe\">\n",
       "  <thead>\n",
       "    <tr style=\"text-align: right;\">\n",
       "      <th></th>\n",
       "      <th>index</th>\n",
       "      <th>Date Received</th>\n",
       "      <th>Incident Date</th>\n",
       "      <th>Claim Amount</th>\n",
       "      <th>Close Amount</th>\n",
       "    </tr>\n",
       "  </thead>\n",
       "  <tbody>\n",
       "    <tr>\n",
       "      <th>128759</th>\n",
       "      <td>128759</td>\n",
       "      <td>2010-12-29</td>\n",
       "      <td>2011-02-09</td>\n",
       "      <td>100.30</td>\n",
       "      <td>100.30</td>\n",
       "    </tr>\n",
       "    <tr>\n",
       "      <th>128788</th>\n",
       "      <td>128788</td>\n",
       "      <td>2011-01-06</td>\n",
       "      <td>2011-01-03</td>\n",
       "      <td>39.49</td>\n",
       "      <td>39.49</td>\n",
       "    </tr>\n",
       "    <tr>\n",
       "      <th>128790</th>\n",
       "      <td>128790</td>\n",
       "      <td>2011-01-06</td>\n",
       "      <td>2010-12-31</td>\n",
       "      <td>271.20</td>\n",
       "      <td>271.20</td>\n",
       "    </tr>\n",
       "    <tr>\n",
       "      <th>128807</th>\n",
       "      <td>128807</td>\n",
       "      <td>2011-01-07</td>\n",
       "      <td>2011-01-03</td>\n",
       "      <td>265.92</td>\n",
       "      <td>265.92</td>\n",
       "    </tr>\n",
       "    <tr>\n",
       "      <th>128809</th>\n",
       "      <td>128809</td>\n",
       "      <td>2011-01-10</td>\n",
       "      <td>2011-01-06</td>\n",
       "      <td>93.26</td>\n",
       "      <td>93.26</td>\n",
       "    </tr>\n",
       "  </tbody>\n",
       "</table>\n",
       "</div>"
      ],
      "text/plain": [
       "         index Date Received Incident Date  Claim Amount  Close Amount\n",
       "128759  128759    2010-12-29    2011-02-09        100.30        100.30\n",
       "128788  128788    2011-01-06    2011-01-03         39.49         39.49\n",
       "128790  128790    2011-01-06    2010-12-31        271.20        271.20\n",
       "128807  128807    2011-01-07    2011-01-03        265.92        265.92\n",
       "128809  128809    2011-01-10    2011-01-06         93.26         93.26"
      ]
     },
     "execution_count": 14,
     "metadata": {},
     "output_type": "execute_result"
    }
   ],
   "source": [
    "df_sub.head()"
   ]
  },
  {
   "cell_type": "code",
   "execution_count": 15,
   "id": "d1637760",
   "metadata": {},
   "outputs": [
    {
     "data": {
      "text/html": [
       "<div>\n",
       "<style scoped>\n",
       "    .dataframe tbody tr th:only-of-type {\n",
       "        vertical-align: middle;\n",
       "    }\n",
       "\n",
       "    .dataframe tbody tr th {\n",
       "        vertical-align: top;\n",
       "    }\n",
       "\n",
       "    .dataframe thead th {\n",
       "        text-align: right;\n",
       "    }\n",
       "</style>\n",
       "<table border=\"1\" class=\"dataframe\">\n",
       "  <thead>\n",
       "    <tr style=\"text-align: right;\">\n",
       "      <th></th>\n",
       "      <th>index</th>\n",
       "      <th>Claim Amount</th>\n",
       "      <th>Close Amount</th>\n",
       "    </tr>\n",
       "    <tr>\n",
       "      <th>datetime</th>\n",
       "      <th></th>\n",
       "      <th></th>\n",
       "      <th></th>\n",
       "    </tr>\n",
       "  </thead>\n",
       "  <tbody>\n",
       "    <tr>\n",
       "      <th>2011-02-09</th>\n",
       "      <td>128759</td>\n",
       "      <td>100.30</td>\n",
       "      <td>100.30</td>\n",
       "    </tr>\n",
       "    <tr>\n",
       "      <th>2011-01-03</th>\n",
       "      <td>128788</td>\n",
       "      <td>39.49</td>\n",
       "      <td>39.49</td>\n",
       "    </tr>\n",
       "    <tr>\n",
       "      <th>2010-12-31</th>\n",
       "      <td>128790</td>\n",
       "      <td>271.20</td>\n",
       "      <td>271.20</td>\n",
       "    </tr>\n",
       "    <tr>\n",
       "      <th>2011-01-03</th>\n",
       "      <td>128807</td>\n",
       "      <td>265.92</td>\n",
       "      <td>265.92</td>\n",
       "    </tr>\n",
       "    <tr>\n",
       "      <th>2011-01-06</th>\n",
       "      <td>128809</td>\n",
       "      <td>93.26</td>\n",
       "      <td>93.26</td>\n",
       "    </tr>\n",
       "  </tbody>\n",
       "</table>\n",
       "</div>"
      ],
      "text/plain": [
       "             index  Claim Amount  Close Amount\n",
       "datetime                                      \n",
       "2011-02-09  128759        100.30        100.30\n",
       "2011-01-03  128788         39.49         39.49\n",
       "2010-12-31  128790        271.20        271.20\n",
       "2011-01-03  128807        265.92        265.92\n",
       "2011-01-06  128809         93.26         93.26"
      ]
     },
     "execution_count": 15,
     "metadata": {},
     "output_type": "execute_result"
    }
   ],
   "source": [
    "# set \"Incident Date\" column as the index\n",
    "\n",
    "from datetime import datetime\n",
    "\n",
    "df_sub['datetime'] = pd.to_datetime(df_sub['Incident Date']) # create datetime column from date\n",
    "df_sub = df_sub.set_index('datetime') # set \"datetime\" as the index\n",
    "df_sub.drop(['Incident Date'], axis = 1, inplace = True) # drop date column\n",
    "df_sub.drop(['Date Received'], axis = 1, inplace = True) # drop date column\n",
    "df_sub.head()"
   ]
  },
  {
   "cell_type": "markdown",
   "id": "45c3c022",
   "metadata": {},
   "source": [
    "# 4. Create line chart"
   ]
  },
  {
   "cell_type": "code",
   "execution_count": 16,
   "id": "7ba48cdc",
   "metadata": {},
   "outputs": [
    {
     "data": {
      "text/plain": [
       "[<matplotlib.lines.Line2D at 0x2711ec214f0>,\n",
       " <matplotlib.lines.Line2D at 0x2711ec6d1f0>,\n",
       " <matplotlib.lines.Line2D at 0x2711ec6d2b0>]"
      ]
     },
     "execution_count": 16,
     "metadata": {},
     "output_type": "execute_result"
    },
    {
     "data": {
      "image/png": "[encoded data removed]",
      "text/plain": [
       "<Figure size 1500x500 with 1 Axes>"
      ]
     },
     "metadata": {},
     "output_type": "display_data"
    }
   ],
   "source": [
    "# plot new set\n",
    "\n",
    "plt.figure(figsize = (15,5), dpi = 100)\n",
    "plt.plot(df_sub)"
   ]
  },
  {
   "cell_type": "markdown",
   "id": "f862a904",
   "metadata": {},
   "source": [
    "# The yellow line shows the close amount, and the blue line shows claim amount. It seems over time, the claim amounts have gotten higher"
   ]
  },
  {
   "cell_type": "code",
   "execution_count": 18,
   "id": "daa9402d",
   "metadata": {},
   "outputs": [
    {
     "data": {
      "text/plain": [
       "index           0\n",
       "Claim Amount    0\n",
       "Close Amount    0\n",
       "dtype: int64"
      ]
     },
     "execution_count": 18,
     "metadata": {},
     "output_type": "execute_result"
    }
   ],
   "source": [
    "df_sub.isnull().sum() "
   ]
  },
  {
   "cell_type": "code",
   "execution_count": 19,
   "id": "62d231e2",
   "metadata": {},
   "outputs": [
    {
     "data": {
      "text/plain": [
       "0"
      ]
     },
     "execution_count": 19,
     "metadata": {},
     "output_type": "execute_result"
    }
   ],
   "source": [
    "dups = df_sub.duplicated()\n",
    "dups.sum()"
   ]
  },
  {
   "cell_type": "markdown",
   "id": "effedbee",
   "metadata": {},
   "source": [
    "# 6. Dickey-Fuller test"
   ]
  },
  {
   "cell_type": "code",
   "execution_count": 34,
   "id": "6e5ff604",
   "metadata": {},
   "outputs": [
    {
     "name": "stdout",
     "output_type": "stream",
     "text": [
      "Dickey-Fuller Stationarity test:\n",
      "Test Statistic                   -99.839121\n",
      "p-value                            0.000000\n",
      "Number of Lags Used                0.000000\n",
      "Number of Observations Used    10204.000000\n",
      "Critical Value (1%)               -3.430991\n",
      "Critical Value (5%)               -2.861823\n",
      "Critical Value (10%)              -2.566921\n",
      "dtype: float64\n"
     ]
    }
   ],
   "source": [
    "# Claim Amount\n",
    "\n",
    "from statsmodels.tsa.stattools import adfuller \n",
    "\n",
    "def dickey_fuller(timeseries):\n",
    "    print ('Dickey-Fuller Stationarity test:')\n",
    "    test = adfuller(timeseries, autolag='AIC')\n",
    "    result = pd.Series(test[0:4], index=['Test Statistic','p-value','Number of Lags Used','Number of Observations Used'])\n",
    "    for key,value in test[4].items():\n",
    "       result['Critical Value (%s)'%key] = value\n",
    "    print (result)\n",
    "\n",
    "dickey_fuller(df_sub['Claim Amount'])"
   ]
  },
  {
   "cell_type": "code",
   "execution_count": 35,
   "id": "893aca33",
   "metadata": {},
   "outputs": [
    {
     "name": "stdout",
     "output_type": "stream",
     "text": [
      "Dickey-Fuller Stationarity test:\n",
      "Test Statistic                   -99.839121\n",
      "p-value                            0.000000\n",
      "Number of Lags Used                0.000000\n",
      "Number of Observations Used    10204.000000\n",
      "Critical Value (1%)               -3.430991\n",
      "Critical Value (5%)               -2.861823\n",
      "Critical Value (10%)              -2.566921\n",
      "dtype: float64\n"
     ]
    }
   ],
   "source": [
    "# Close Amount\n",
    "\n",
    "from statsmodels.tsa.stattools import adfuller \n",
    "\n",
    "def dickey_fuller(timeseries):\n",
    "    print ('Dickey-Fuller Stationarity test:')\n",
    "    test = adfuller(timeseries, autolag='AIC')\n",
    "    result = pd.Series(test[0:4], index=['Test Statistic','p-value','Number of Lags Used','Number of Observations Used'])\n",
    "    for key,value in test[4].items():\n",
    "       result['Critical Value (%s)'%key] = value\n",
    "    print (result)\n",
    "\n",
    "dickey_fuller(df_sub['Close Amount'])"
   ]
  },
  {
   "cell_type": "markdown",
   "id": "bf92a0b5",
   "metadata": {},
   "source": [
    "# The test statistic in both cases is smaller than any of the critical values, so we can reject the null hypothesis."
   ]
  },
  {
   "cell_type": "markdown",
   "id": "31892456",
   "metadata": {},
   "source": [
    "# Therefore, the data is likely stationary."
   ]
  },
  {
   "cell_type": "markdown",
   "id": "df881d0f",
   "metadata": {},
   "source": [
    "# 9. Autocorrelations"
   ]
  },
  {
   "cell_type": "code",
   "execution_count": 36,
   "id": "e89dfafd",
   "metadata": {},
   "outputs": [
    {
     "data": {
      "image/png": "[encoded data removed]",
      "text/plain": [
       "<Figure size 432x288 with 1 Axes>"
      ]
     },
     "metadata": {},
     "output_type": "display_data"
    }
   ],
   "source": [
    "# Claim Amount\n",
    "\n",
    "from statsmodels.graphics.tsaplots import plot_acf, plot_pacf\n",
    "\n",
    "plot_acf(df_sub['Claim Amount'])\n",
    "plt.show()"
   ]
  },
  {
   "cell_type": "code",
   "execution_count": 40,
   "id": "7f7e8785",
   "metadata": {},
   "outputs": [
    {
     "data": {
      "image/png": "[encoded data removed]",
      "text/plain": [
       "<Figure size 432x288 with 1 Axes>"
      ]
     },
     "metadata": {},
     "output_type": "display_data"
    }
   ],
   "source": [
    "# Close Amount\n",
    "\n",
    "from statsmodels.graphics.tsaplots import plot_acf, plot_pacf\n",
    "\n",
    "plot_acf(df_sub['Close Amount'])\n",
    "plt.show()"
   ]
  },
  {
   "cell_type": "code",
   "execution_count": null,
   "id": "ba76e652",
   "metadata": {},
   "outputs": [],
   "source": []
  }
 ],
 "metadata": {
  "kernelspec": {
   "display_name": "Python 3 (ipykernel)",
   "language": "python",
   "name": "python3"
  },
  "language_info": {
   "codemirror_mode": {
    "name": "ipython",
    "version": 3
   },
   "file_extension": ".py",
   "mimetype": "text/x-python",
   "name": "python",
   "nbconvert_exporter": "python",
   "pygments_lexer": "ipython3",
   "version": "3.9.7"
  }
 },
 "nbformat": 4,
 "nbformat_minor": 5
}
