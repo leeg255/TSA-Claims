{
 "cells": [
  {
   "cell_type": "markdown",
   "id": "d27aa7e9",
   "metadata": {},
   "source": [
    "# import"
   ]
  },
  {
   "cell_type": "code",
   "execution_count": 2,
   "id": "77994ae9",
   "metadata": {},
   "outputs": [],
   "source": [
    "import pandas as pd\n",
    "import numpy as np\n",
    "import seaborn as sns\n",
    "import matplotlib\n",
    "import matplotlib.pyplot as plt\n",
    "import os\n",
    "import sklearn\n",
    "from sklearn.cluster import KMeans\n",
    "import pylab as pl"
   ]
  },
  {
   "cell_type": "code",
   "execution_count": 3,
   "id": "b159ba80",
   "metadata": {},
   "outputs": [],
   "source": [
    "%matplotlib inline"
   ]
  },
  {
   "cell_type": "markdown",
   "id": "8cfa5832",
   "metadata": {},
   "source": [
    "# path to string"
   ]
  },
  {
   "cell_type": "code",
   "execution_count": 4,
   "id": "50d85d67",
   "metadata": {},
   "outputs": [],
   "source": [
    "path = r'C:\\Users\\leevg\\OneDrive\\Desktop\\CF\\DI\\A6'"
   ]
  },
  {
   "cell_type": "markdown",
   "id": "7fa5dda8",
   "metadata": {},
   "source": [
    "# import data"
   ]
  },
  {
   "cell_type": "code",
   "execution_count": 5,
   "id": "b639dc39",
   "metadata": {},
   "outputs": [],
   "source": [
    "df = pd.read_csv(os.path.join(path, 'Data', 'Prepared Data', 'TSA Claims Task 6.2.csv'))"
   ]
  },
  {
   "cell_type": "code",
   "execution_count": 6,
   "id": "5d79dc8a",
   "metadata": {},
   "outputs": [
    {
     "data": {
      "text/html": [
       "<div>\n",
       "<style scoped>\n",
       "    .dataframe tbody tr th:only-of-type {\n",
       "        vertical-align: middle;\n",
       "    }\n",
       "\n",
       "    .dataframe tbody tr th {\n",
       "        vertical-align: top;\n",
       "    }\n",
       "\n",
       "    .dataframe thead th {\n",
       "        text-align: right;\n",
       "    }\n",
       "</style>\n",
       "<table border=\"1\" class=\"dataframe\">\n",
       "  <thead>\n",
       "    <tr style=\"text-align: right;\">\n",
       "      <th></th>\n",
       "      <th>Unnamed: 0</th>\n",
       "      <th>Date Received</th>\n",
       "      <th>Incident Date</th>\n",
       "      <th>State</th>\n",
       "      <th>Airport Name</th>\n",
       "      <th>Airline Name</th>\n",
       "      <th>Claim Type</th>\n",
       "      <th>Claim Site</th>\n",
       "      <th>Item</th>\n",
       "      <th>Claim Amount</th>\n",
       "      <th>Status</th>\n",
       "      <th>Close Amount</th>\n",
       "      <th>Disposition</th>\n",
       "      <th>Close Category</th>\n",
       "    </tr>\n",
       "  </thead>\n",
       "  <tbody>\n",
       "    <tr>\n",
       "      <th>0</th>\n",
       "      <td>0</td>\n",
       "      <td>6/20/02</td>\n",
       "      <td>5/9/02</td>\n",
       "      <td>Maryland</td>\n",
       "      <td>Baltimore/Washington Intl Thurgood Marshall</td>\n",
       "      <td>Southwest Airlines</td>\n",
       "      <td>Other</td>\n",
       "      <td>Checkpoint</td>\n",
       "      <td>Clothing</td>\n",
       "      <td>75.00</td>\n",
       "      <td>Approved</td>\n",
       "      <td>75.0</td>\n",
       "      <td>Approve in Full</td>\n",
       "      <td>Medium Price</td>\n",
       "    </tr>\n",
       "    <tr>\n",
       "      <th>1</th>\n",
       "      <td>1</td>\n",
       "      <td>6/20/02</td>\n",
       "      <td>6/16/02</td>\n",
       "      <td>Arizona</td>\n",
       "      <td>Phoenix Sky Harbor International</td>\n",
       "      <td>Other</td>\n",
       "      <td>Property Damage</td>\n",
       "      <td>Checkpoint</td>\n",
       "      <td>Computers</td>\n",
       "      <td>2270.09</td>\n",
       "      <td>Canceled</td>\n",
       "      <td>0.0</td>\n",
       "      <td>Cancel</td>\n",
       "      <td>Low price</td>\n",
       "    </tr>\n",
       "    <tr>\n",
       "      <th>2</th>\n",
       "      <td>2</td>\n",
       "      <td>6/25/02</td>\n",
       "      <td>5/4/02</td>\n",
       "      <td>Georgia</td>\n",
       "      <td>Hartsfield-Jackson Atlanta International Airport</td>\n",
       "      <td>Other</td>\n",
       "      <td>Passenger Property Loss</td>\n",
       "      <td>Checkpoint</td>\n",
       "      <td>Jewelry</td>\n",
       "      <td>4457.29</td>\n",
       "      <td>Denied</td>\n",
       "      <td>0.0</td>\n",
       "      <td>Deny</td>\n",
       "      <td>Low price</td>\n",
       "    </tr>\n",
       "    <tr>\n",
       "      <th>3</th>\n",
       "      <td>3</td>\n",
       "      <td>7/8/02</td>\n",
       "      <td>6/12/02</td>\n",
       "      <td>Maryland</td>\n",
       "      <td>Baltimore/Washington Intl Thurgood Marshall</td>\n",
       "      <td>American Airlines</td>\n",
       "      <td>Other</td>\n",
       "      <td>Checkpoint</td>\n",
       "      <td>Glasses &amp; Contacts</td>\n",
       "      <td>16.71</td>\n",
       "      <td>Approved</td>\n",
       "      <td>17.0</td>\n",
       "      <td>Approve in Full</td>\n",
       "      <td>Low price</td>\n",
       "    </tr>\n",
       "    <tr>\n",
       "      <th>4</th>\n",
       "      <td>4</td>\n",
       "      <td>7/8/02</td>\n",
       "      <td>6/4/02</td>\n",
       "      <td>Maryland</td>\n",
       "      <td>Baltimore/Washington Intl Thurgood Marshall</td>\n",
       "      <td>Southwest Airlines</td>\n",
       "      <td>Other</td>\n",
       "      <td>Other</td>\n",
       "      <td>Clothing</td>\n",
       "      <td>450.00</td>\n",
       "      <td>Canceled</td>\n",
       "      <td>0.0</td>\n",
       "      <td>Cancel</td>\n",
       "      <td>Low price</td>\n",
       "    </tr>\n",
       "  </tbody>\n",
       "</table>\n",
       "</div>"
      ],
      "text/plain": [
       "   Unnamed: 0 Date Received Incident Date     State  \\\n",
       "0           0       6/20/02        5/9/02  Maryland   \n",
       "1           1       6/20/02       6/16/02   Arizona   \n",
       "2           2       6/25/02        5/4/02   Georgia   \n",
       "3           3        7/8/02       6/12/02  Maryland   \n",
       "4           4        7/8/02        6/4/02  Maryland   \n",
       "\n",
       "                                       Airport Name        Airline Name  \\\n",
       "0       Baltimore/Washington Intl Thurgood Marshall  Southwest Airlines   \n",
       "1                  Phoenix Sky Harbor International               Other   \n",
       "2  Hartsfield-Jackson Atlanta International Airport               Other   \n",
       "3       Baltimore/Washington Intl Thurgood Marshall   American Airlines   \n",
       "4       Baltimore/Washington Intl Thurgood Marshall  Southwest Airlines   \n",
       "\n",
       "                Claim Type  Claim Site                Item  Claim Amount  \\\n",
       "0                    Other  Checkpoint            Clothing         75.00   \n",
       "1          Property Damage  Checkpoint           Computers       2270.09   \n",
       "2  Passenger Property Loss  Checkpoint             Jewelry       4457.29   \n",
       "3                    Other  Checkpoint  Glasses & Contacts         16.71   \n",
       "4                    Other       Other            Clothing        450.00   \n",
       "\n",
       "     Status  Close Amount      Disposition Close Category  \n",
       "0  Approved          75.0  Approve in Full   Medium Price  \n",
       "1  Canceled           0.0           Cancel      Low price  \n",
       "2    Denied           0.0             Deny      Low price  \n",
       "3  Approved          17.0  Approve in Full      Low price  \n",
       "4  Canceled           0.0           Cancel      Low price  "
      ]
     },
     "execution_count": 6,
     "metadata": {},
     "output_type": "execute_result"
    }
   ],
   "source": [
    "df.head()"
   ]
  },
  {
   "cell_type": "code",
   "execution_count": 7,
   "id": "fecedb93",
   "metadata": {},
   "outputs": [],
   "source": [
    "df = df.drop(columns = 'Unnamed: 0')"
   ]
  },
  {
   "cell_type": "code",
   "execution_count": 8,
   "id": "0958eb26",
   "metadata": {},
   "outputs": [
    {
     "data": {
      "text/html": [
       "<div>\n",
       "<style scoped>\n",
       "    .dataframe tbody tr th:only-of-type {\n",
       "        vertical-align: middle;\n",
       "    }\n",
       "\n",
       "    .dataframe tbody tr th {\n",
       "        vertical-align: top;\n",
       "    }\n",
       "\n",
       "    .dataframe thead th {\n",
       "        text-align: right;\n",
       "    }\n",
       "</style>\n",
       "<table border=\"1\" class=\"dataframe\">\n",
       "  <thead>\n",
       "    <tr style=\"text-align: right;\">\n",
       "      <th></th>\n",
       "      <th>Date Received</th>\n",
       "      <th>Incident Date</th>\n",
       "      <th>State</th>\n",
       "      <th>Airport Name</th>\n",
       "      <th>Airline Name</th>\n",
       "      <th>Claim Type</th>\n",
       "      <th>Claim Site</th>\n",
       "      <th>Item</th>\n",
       "      <th>Claim Amount</th>\n",
       "      <th>Status</th>\n",
       "      <th>Close Amount</th>\n",
       "      <th>Disposition</th>\n",
       "      <th>Close Category</th>\n",
       "    </tr>\n",
       "  </thead>\n",
       "  <tbody>\n",
       "    <tr>\n",
       "      <th>0</th>\n",
       "      <td>6/20/02</td>\n",
       "      <td>5/9/02</td>\n",
       "      <td>Maryland</td>\n",
       "      <td>Baltimore/Washington Intl Thurgood Marshall</td>\n",
       "      <td>Southwest Airlines</td>\n",
       "      <td>Other</td>\n",
       "      <td>Checkpoint</td>\n",
       "      <td>Clothing</td>\n",
       "      <td>75.00</td>\n",
       "      <td>Approved</td>\n",
       "      <td>75.0</td>\n",
       "      <td>Approve in Full</td>\n",
       "      <td>Medium Price</td>\n",
       "    </tr>\n",
       "    <tr>\n",
       "      <th>1</th>\n",
       "      <td>6/20/02</td>\n",
       "      <td>6/16/02</td>\n",
       "      <td>Arizona</td>\n",
       "      <td>Phoenix Sky Harbor International</td>\n",
       "      <td>Other</td>\n",
       "      <td>Property Damage</td>\n",
       "      <td>Checkpoint</td>\n",
       "      <td>Computers</td>\n",
       "      <td>2270.09</td>\n",
       "      <td>Canceled</td>\n",
       "      <td>0.0</td>\n",
       "      <td>Cancel</td>\n",
       "      <td>Low price</td>\n",
       "    </tr>\n",
       "    <tr>\n",
       "      <th>2</th>\n",
       "      <td>6/25/02</td>\n",
       "      <td>5/4/02</td>\n",
       "      <td>Georgia</td>\n",
       "      <td>Hartsfield-Jackson Atlanta International Airport</td>\n",
       "      <td>Other</td>\n",
       "      <td>Passenger Property Loss</td>\n",
       "      <td>Checkpoint</td>\n",
       "      <td>Jewelry</td>\n",
       "      <td>4457.29</td>\n",
       "      <td>Denied</td>\n",
       "      <td>0.0</td>\n",
       "      <td>Deny</td>\n",
       "      <td>Low price</td>\n",
       "    </tr>\n",
       "    <tr>\n",
       "      <th>3</th>\n",
       "      <td>7/8/02</td>\n",
       "      <td>6/12/02</td>\n",
       "      <td>Maryland</td>\n",
       "      <td>Baltimore/Washington Intl Thurgood Marshall</td>\n",
       "      <td>American Airlines</td>\n",
       "      <td>Other</td>\n",
       "      <td>Checkpoint</td>\n",
       "      <td>Glasses &amp; Contacts</td>\n",
       "      <td>16.71</td>\n",
       "      <td>Approved</td>\n",
       "      <td>17.0</td>\n",
       "      <td>Approve in Full</td>\n",
       "      <td>Low price</td>\n",
       "    </tr>\n",
       "    <tr>\n",
       "      <th>4</th>\n",
       "      <td>7/8/02</td>\n",
       "      <td>6/4/02</td>\n",
       "      <td>Maryland</td>\n",
       "      <td>Baltimore/Washington Intl Thurgood Marshall</td>\n",
       "      <td>Southwest Airlines</td>\n",
       "      <td>Other</td>\n",
       "      <td>Other</td>\n",
       "      <td>Clothing</td>\n",
       "      <td>450.00</td>\n",
       "      <td>Canceled</td>\n",
       "      <td>0.0</td>\n",
       "      <td>Cancel</td>\n",
       "      <td>Low price</td>\n",
       "    </tr>\n",
       "  </tbody>\n",
       "</table>\n",
       "</div>"
      ],
      "text/plain": [
       "  Date Received Incident Date     State  \\\n",
       "0       6/20/02        5/9/02  Maryland   \n",
       "1       6/20/02       6/16/02   Arizona   \n",
       "2       6/25/02        5/4/02   Georgia   \n",
       "3        7/8/02       6/12/02  Maryland   \n",
       "4        7/8/02        6/4/02  Maryland   \n",
       "\n",
       "                                       Airport Name        Airline Name  \\\n",
       "0       Baltimore/Washington Intl Thurgood Marshall  Southwest Airlines   \n",
       "1                  Phoenix Sky Harbor International               Other   \n",
       "2  Hartsfield-Jackson Atlanta International Airport               Other   \n",
       "3       Baltimore/Washington Intl Thurgood Marshall   American Airlines   \n",
       "4       Baltimore/Washington Intl Thurgood Marshall  Southwest Airlines   \n",
       "\n",
       "                Claim Type  Claim Site                Item  Claim Amount  \\\n",
       "0                    Other  Checkpoint            Clothing         75.00   \n",
       "1          Property Damage  Checkpoint           Computers       2270.09   \n",
       "2  Passenger Property Loss  Checkpoint             Jewelry       4457.29   \n",
       "3                    Other  Checkpoint  Glasses & Contacts         16.71   \n",
       "4                    Other       Other            Clothing        450.00   \n",
       "\n",
       "     Status  Close Amount      Disposition Close Category  \n",
       "0  Approved          75.0  Approve in Full   Medium Price  \n",
       "1  Canceled           0.0           Cancel      Low price  \n",
       "2    Denied           0.0             Deny      Low price  \n",
       "3  Approved          17.0  Approve in Full      Low price  \n",
       "4  Canceled           0.0           Cancel      Low price  "
      ]
     },
     "execution_count": 8,
     "metadata": {},
     "output_type": "execute_result"
    }
   ],
   "source": [
    "df.head()"
   ]
  },
  {
   "cell_type": "code",
   "execution_count": 9,
   "id": "69dd14bf",
   "metadata": {},
   "outputs": [
    {
     "data": {
      "text/plain": [
       "(139201, 13)"
      ]
     },
     "execution_count": 9,
     "metadata": {},
     "output_type": "execute_result"
    }
   ],
   "source": [
    "df.shape"
   ]
  },
  {
   "cell_type": "code",
   "execution_count": 10,
   "id": "5c2bfeff",
   "metadata": {},
   "outputs": [],
   "source": [
    "df_numerical = df.drop(columns = ['Date Received', 'Incident Date', 'State', 'Airport Name', 'Airline Name', 'Claim Type', 'Claim Site', 'Item', 'Status', 'Disposition', 'Close Category'])"
   ]
  },
  {
   "cell_type": "code",
   "execution_count": 11,
   "id": "9efbc2a1",
   "metadata": {},
   "outputs": [
    {
     "data": {
      "text/html": [
       "<div>\n",
       "<style scoped>\n",
       "    .dataframe tbody tr th:only-of-type {\n",
       "        vertical-align: middle;\n",
       "    }\n",
       "\n",
       "    .dataframe tbody tr th {\n",
       "        vertical-align: top;\n",
       "    }\n",
       "\n",
       "    .dataframe thead th {\n",
       "        text-align: right;\n",
       "    }\n",
       "</style>\n",
       "<table border=\"1\" class=\"dataframe\">\n",
       "  <thead>\n",
       "    <tr style=\"text-align: right;\">\n",
       "      <th></th>\n",
       "      <th>Claim Amount</th>\n",
       "      <th>Close Amount</th>\n",
       "    </tr>\n",
       "  </thead>\n",
       "  <tbody>\n",
       "    <tr>\n",
       "      <th>0</th>\n",
       "      <td>75.00</td>\n",
       "      <td>75.0</td>\n",
       "    </tr>\n",
       "    <tr>\n",
       "      <th>1</th>\n",
       "      <td>2270.09</td>\n",
       "      <td>0.0</td>\n",
       "    </tr>\n",
       "    <tr>\n",
       "      <th>2</th>\n",
       "      <td>4457.29</td>\n",
       "      <td>0.0</td>\n",
       "    </tr>\n",
       "    <tr>\n",
       "      <th>3</th>\n",
       "      <td>16.71</td>\n",
       "      <td>17.0</td>\n",
       "    </tr>\n",
       "    <tr>\n",
       "      <th>4</th>\n",
       "      <td>450.00</td>\n",
       "      <td>0.0</td>\n",
       "    </tr>\n",
       "  </tbody>\n",
       "</table>\n",
       "</div>"
      ],
      "text/plain": [
       "   Claim Amount  Close Amount\n",
       "0         75.00          75.0\n",
       "1       2270.09           0.0\n",
       "2       4457.29           0.0\n",
       "3         16.71          17.0\n",
       "4        450.00           0.0"
      ]
     },
     "execution_count": 11,
     "metadata": {},
     "output_type": "execute_result"
    }
   ],
   "source": [
    "df_numerical.head()"
   ]
  },
  {
   "cell_type": "markdown",
   "id": "8d0832fd",
   "metadata": {},
   "source": [
    "# Elbow Technique"
   ]
  },
  {
   "cell_type": "code",
   "execution_count": 12,
   "id": "9b1d7170",
   "metadata": {},
   "outputs": [],
   "source": [
    "# define range \n",
    "\n",
    "num_cl = range(1, 10)"
   ]
  },
  {
   "cell_type": "code",
   "execution_count": 13,
   "id": "8f93220c",
   "metadata": {},
   "outputs": [],
   "source": [
    "# define kmeans cluster\n",
    "\n",
    "kmeans = [KMeans(n_clusters = i) for i in num_cl]"
   ]
  },
  {
   "cell_type": "code",
   "execution_count": 14,
   "id": "86b3d832",
   "metadata": {},
   "outputs": [
    {
     "data": {
      "text/plain": [
       "[-2.6163566809012612e+16,\n",
       " -851921247536584.2,\n",
       " -451961996624645.94,\n",
       " -139461996624577.48,\n",
       " -40205092920113.32,\n",
       " -9513079556937.037,\n",
       " -4462954419997.177,\n",
       " -2663218144548.4575,\n",
       " -2033009811215.4275]"
      ]
     },
     "execution_count": 14,
     "metadata": {},
     "output_type": "execute_result"
    }
   ],
   "source": [
    "# create a score that represents rate of variation for the clusters\n",
    "\n",
    "score = [kmeans[i].fit(df_numerical).score(df_numerical) for i in range(len(kmeans))]\n",
    "\n",
    "score"
   ]
  },
  {
   "cell_type": "code",
   "execution_count": 15,
   "id": "00f2f97b",
   "metadata": {},
   "outputs": [
    {
     "data": {
      "image/png": "[encoded data removed]",
      "text/plain": [
       "<Figure size 432x288 with 1 Axes>"
      ]
     },
     "metadata": {
      "needs_background": "light"
     },
     "output_type": "display_data"
    }
   ],
   "source": [
    "# plot the elbow curve\n",
    "\n",
    "pl.plot(num_cl, score)\n",
    "pl.xlabel('Number of Clusters')\n",
    "pl.ylabel('Score')\n",
    "pl.title('Elbow Curve')\n",
    "pl.show()"
   ]
  },
  {
   "cell_type": "markdown",
   "id": "161ba834",
   "metadata": {},
   "source": [
    "# There is a steep slope from 1 to 2, which immediately tapers off. This means 2 clusters is optimal."
   ]
  },
  {
   "cell_type": "markdown",
   "id": "5d76b3c6",
   "metadata": {},
   "source": [
    "# KMeans cluster"
   ]
  },
  {
   "cell_type": "code",
   "execution_count": 16,
   "id": "21e1efa0",
   "metadata": {},
   "outputs": [],
   "source": [
    "# create KMeans object\n",
    "\n",
    "kmeans = KMeans(n_clusters = 2, n_jobs = -1)"
   ]
  },
  {
   "cell_type": "code",
   "execution_count": 17,
   "id": "efca7f23",
   "metadata": {},
   "outputs": [
    {
     "name": "stderr",
     "output_type": "stream",
     "text": [
      "C:\\Users\\leevg\\anaconda3\\lib\\site-packages\\sklearn\\cluster\\_kmeans.py:792: FutureWarning: 'n_jobs' was deprecated in version 0.23 and will be removed in 1.0 (renaming of 0.25).\n",
      "  warnings.warn(\"'n_jobs' was deprecated in version 0.23 and will be\"\n"
     ]
    },
    {
     "data": {
      "text/plain": [
       "KMeans(n_clusters=2, n_jobs=-1)"
      ]
     },
     "execution_count": 17,
     "metadata": {},
     "output_type": "execute_result"
    }
   ],
   "source": [
    "# fit KMeans object to the data\n",
    "\n",
    "kmeans.fit(df_numerical)"
   ]
  },
  {
   "cell_type": "code",
   "execution_count": 18,
   "id": "5d3f6d12",
   "metadata": {},
   "outputs": [
    {
     "name": "stderr",
     "output_type": "stream",
     "text": [
      "C:\\Users\\leevg\\anaconda3\\lib\\site-packages\\sklearn\\cluster\\_kmeans.py:792: FutureWarning: 'n_jobs' was deprecated in version 0.23 and will be removed in 1.0 (renaming of 0.25).\n",
      "  warnings.warn(\"'n_jobs' was deprecated in version 0.23 and will be\"\n"
     ]
    }
   ],
   "source": [
    "df_numerical['clusters'] = kmeans.fit_predict(df_numerical)"
   ]
  },
  {
   "cell_type": "code",
   "execution_count": 19,
   "id": "f57446f6",
   "metadata": {},
   "outputs": [
    {
     "data": {
      "text/html": [
       "<div>\n",
       "<style scoped>\n",
       "    .dataframe tbody tr th:only-of-type {\n",
       "        vertical-align: middle;\n",
       "    }\n",
       "\n",
       "    .dataframe tbody tr th {\n",
       "        vertical-align: top;\n",
       "    }\n",
       "\n",
       "    .dataframe thead th {\n",
       "        text-align: right;\n",
       "    }\n",
       "</style>\n",
       "<table border=\"1\" class=\"dataframe\">\n",
       "  <thead>\n",
       "    <tr style=\"text-align: right;\">\n",
       "      <th></th>\n",
       "      <th>Claim Amount</th>\n",
       "      <th>Close Amount</th>\n",
       "      <th>clusters</th>\n",
       "    </tr>\n",
       "  </thead>\n",
       "  <tbody>\n",
       "    <tr>\n",
       "      <th>0</th>\n",
       "      <td>75.00</td>\n",
       "      <td>75.0</td>\n",
       "      <td>0</td>\n",
       "    </tr>\n",
       "    <tr>\n",
       "      <th>1</th>\n",
       "      <td>2270.09</td>\n",
       "      <td>0.0</td>\n",
       "      <td>0</td>\n",
       "    </tr>\n",
       "    <tr>\n",
       "      <th>2</th>\n",
       "      <td>4457.29</td>\n",
       "      <td>0.0</td>\n",
       "      <td>0</td>\n",
       "    </tr>\n",
       "    <tr>\n",
       "      <th>3</th>\n",
       "      <td>16.71</td>\n",
       "      <td>17.0</td>\n",
       "      <td>0</td>\n",
       "    </tr>\n",
       "    <tr>\n",
       "      <th>4</th>\n",
       "      <td>450.00</td>\n",
       "      <td>0.0</td>\n",
       "      <td>0</td>\n",
       "    </tr>\n",
       "  </tbody>\n",
       "</table>\n",
       "</div>"
      ],
      "text/plain": [
       "   Claim Amount  Close Amount  clusters\n",
       "0         75.00          75.0         0\n",
       "1       2270.09           0.0         0\n",
       "2       4457.29           0.0         0\n",
       "3         16.71          17.0         0\n",
       "4        450.00           0.0         0"
      ]
     },
     "execution_count": 19,
     "metadata": {},
     "output_type": "execute_result"
    }
   ],
   "source": [
    "df_numerical.head()"
   ]
  },
  {
   "cell_type": "code",
   "execution_count": 20,
   "id": "4fbe9839",
   "metadata": {},
   "outputs": [
    {
     "data": {
      "text/plain": [
       "0    139199\n",
       "1         2\n",
       "Name: clusters, dtype: int64"
      ]
     },
     "execution_count": 20,
     "metadata": {},
     "output_type": "execute_result"
    }
   ],
   "source": [
    "df_numerical['clusters'].value_counts()"
   ]
  },
  {
   "cell_type": "code",
   "execution_count": 21,
   "id": "ddf30c95",
   "metadata": {},
   "outputs": [
    {
     "data": {
      "image/png": "[encoded data removed]",
      "text/plain": [
       "<Figure size 864x576 with 1 Axes>"
      ]
     },
     "metadata": {
      "needs_background": "light"
     },
     "output_type": "display_data"
    }
   ],
   "source": [
    "# plot clusters\n",
    "\n",
    "plt.figure(figsize = (12, 8))\n",
    "ax = sns.scatterplot(x = df_numerical['Claim Amount'], y = df_numerical['Close Amount'], hue = kmeans.labels_, s=100) \n",
    "\n",
    "ax.grid(False)\n",
    "plt.xlabel('Claim Amount')\n",
    "plt.ylabel('Close Amount')\n",
    "plt.show()"
   ]
  },
  {
   "cell_type": "code",
   "execution_count": 22,
   "id": "ec51bbda",
   "metadata": {},
   "outputs": [],
   "source": [
    "# descriptive statistics\n",
    "\n",
    "df_numerical.loc[df_numerical['clusters'] == 2, 'cluster'] = 'dark purple'\n",
    "df_numerical.loc[df_numerical['clusters'] == 1, 'cluster'] = 'purple'\n",
    "df_numerical.loc[df_numerical['clusters'] == 0, 'cluster'] = 'pink'"
   ]
  },
  {
   "cell_type": "code",
   "execution_count": 23,
   "id": "f51893bf",
   "metadata": {},
   "outputs": [
    {
     "data": {
      "text/html": [
       "<div>\n",
       "<style scoped>\n",
       "    .dataframe tbody tr th:only-of-type {\n",
       "        vertical-align: middle;\n",
       "    }\n",
       "\n",
       "    .dataframe tbody tr th {\n",
       "        vertical-align: top;\n",
       "    }\n",
       "\n",
       "    .dataframe thead tr th {\n",
       "        text-align: left;\n",
       "    }\n",
       "\n",
       "    .dataframe thead tr:last-of-type th {\n",
       "        text-align: right;\n",
       "    }\n",
       "</style>\n",
       "<table border=\"1\" class=\"dataframe\">\n",
       "  <thead>\n",
       "    <tr>\n",
       "      <th></th>\n",
       "      <th colspan=\"2\" halign=\"left\">Claim Amount</th>\n",
       "      <th colspan=\"2\" halign=\"left\">Close Amount</th>\n",
       "    </tr>\n",
       "    <tr>\n",
       "      <th></th>\n",
       "      <th>mean</th>\n",
       "      <th>median</th>\n",
       "      <th>mean</th>\n",
       "      <th>median</th>\n",
       "    </tr>\n",
       "    <tr>\n",
       "      <th>cluster</th>\n",
       "      <th></th>\n",
       "      <th></th>\n",
       "      <th></th>\n",
       "      <th></th>\n",
       "    </tr>\n",
       "  </thead>\n",
       "  <tbody>\n",
       "    <tr>\n",
       "      <th>pink</th>\n",
       "      <td>1.090589e+03</td>\n",
       "      <td>159.0</td>\n",
       "      <td>91.395176</td>\n",
       "      <td>7.75</td>\n",
       "    </tr>\n",
       "    <tr>\n",
       "      <th>purple</th>\n",
       "      <td>1.125000e+08</td>\n",
       "      <td>112500000.0</td>\n",
       "      <td>0.000000</td>\n",
       "      <td>0.00</td>\n",
       "    </tr>\n",
       "  </tbody>\n",
       "</table>\n",
       "</div>"
      ],
      "text/plain": [
       "         Claim Amount              Close Amount       \n",
       "                 mean       median         mean median\n",
       "cluster                                               \n",
       "pink     1.090589e+03        159.0    91.395176   7.75\n",
       "purple   1.125000e+08  112500000.0     0.000000   0.00"
      ]
     },
     "execution_count": 23,
     "metadata": {},
     "output_type": "execute_result"
    }
   ],
   "source": [
    "df_numerical.groupby('cluster').agg({'Claim Amount':['mean', 'median'], 'Close Amount':['mean', 'median']})"
   ]
  },
  {
   "cell_type": "markdown",
   "id": "411c8cb7",
   "metadata": {},
   "source": [
    "# The k-means algorithm further shows there is no relationship between the two variables"
   ]
  },
  {
   "cell_type": "code",
   "execution_count": null,
   "id": "262c087c",
   "metadata": {},
   "outputs": [],
   "source": []
  }
 ],
 "metadata": {
  "kernelspec": {
   "display_name": "Python 3 (ipykernel)",
   "language": "python",
   "name": "python3"
  },
  "language_info": {
   "codemirror_mode": {
    "name": "ipython",
    "version": 3
   },
   "file_extension": ".py",
   "mimetype": "text/x-python",
   "name": "python",
   "nbconvert_exporter": "python",
   "pygments_lexer": "ipython3",
   "version": "3.9.7"
  }
 },
 "nbformat": 4,
 "nbformat_minor": 5
}
